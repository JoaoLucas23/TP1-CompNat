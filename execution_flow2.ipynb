{
 "cells": [
  {
   "cell_type": "code",
   "execution_count": 2,
   "metadata": {},
   "outputs": [
    {
     "name": "stdout",
     "output_type": "stream",
     "text": [
      "Requirement already satisfied: scikit-learn==1.5.2 in c:\\users\\jllgo\\onedrive\\documentos\\ufmg\\compnat\\tp1\\.venv\\lib\\site-packages (from -r requirements.txt (line 1)) (1.5.2)\n",
      "Requirement already satisfied: pandas==2.2.3 in c:\\users\\jllgo\\onedrive\\documentos\\ufmg\\compnat\\tp1\\.venv\\lib\\site-packages (from -r requirements.txt (line 2)) (2.2.3)\n",
      "Requirement already satisfied: numpy==2.1.3 in c:\\users\\jllgo\\onedrive\\documentos\\ufmg\\compnat\\tp1\\.venv\\lib\\site-packages (from -r requirements.txt (line 3)) (2.1.3)\n",
      "Requirement already satisfied: tqdm==4.66.6 in c:\\users\\jllgo\\onedrive\\documentos\\ufmg\\compnat\\tp1\\.venv\\lib\\site-packages (from -r requirements.txt (line 4)) (4.66.6)\n",
      "Requirement already satisfied: scipy>=1.6.0 in c:\\users\\jllgo\\onedrive\\documentos\\ufmg\\compnat\\tp1\\.venv\\lib\\site-packages (from scikit-learn==1.5.2->-r requirements.txt (line 1)) (1.14.1)\n",
      "Requirement already satisfied: joblib>=1.2.0 in c:\\users\\jllgo\\onedrive\\documentos\\ufmg\\compnat\\tp1\\.venv\\lib\\site-packages (from scikit-learn==1.5.2->-r requirements.txt (line 1)) (1.4.2)\n",
      "Requirement already satisfied: threadpoolctl>=3.1.0 in c:\\users\\jllgo\\onedrive\\documentos\\ufmg\\compnat\\tp1\\.venv\\lib\\site-packages (from scikit-learn==1.5.2->-r requirements.txt (line 1)) (3.5.0)\n",
      "Requirement already satisfied: python-dateutil>=2.8.2 in c:\\users\\jllgo\\onedrive\\documentos\\ufmg\\compnat\\tp1\\.venv\\lib\\site-packages (from pandas==2.2.3->-r requirements.txt (line 2)) (2.9.0.post0)\n",
      "Requirement already satisfied: pytz>=2020.1 in c:\\users\\jllgo\\onedrive\\documentos\\ufmg\\compnat\\tp1\\.venv\\lib\\site-packages (from pandas==2.2.3->-r requirements.txt (line 2)) (2024.2)\n",
      "Requirement already satisfied: tzdata>=2022.7 in c:\\users\\jllgo\\onedrive\\documentos\\ufmg\\compnat\\tp1\\.venv\\lib\\site-packages (from pandas==2.2.3->-r requirements.txt (line 2)) (2024.2)\n",
      "Requirement already satisfied: colorama in c:\\users\\jllgo\\onedrive\\documentos\\ufmg\\compnat\\tp1\\.venv\\lib\\site-packages (from tqdm==4.66.6->-r requirements.txt (line 4)) (0.4.6)\n",
      "Requirement already satisfied: six>=1.5 in c:\\users\\jllgo\\onedrive\\documentos\\ufmg\\compnat\\tp1\\.venv\\lib\\site-packages (from python-dateutil>=2.8.2->pandas==2.2.3->-r requirements.txt (line 2)) (1.16.0)\n"
     ]
    }
   ],
   "source": [
    "!pip install -r requirements.txt"
   ]
  },
  {
   "cell_type": "code",
   "execution_count": 3,
   "metadata": {},
   "outputs": [],
   "source": [
    "# importando as bibliotecas\n",
    "import numpy as np\n",
    "import pandas as pd\n",
    "import random\n",
    "from tqdm.auto import tqdm\n",
    "import copy\n",
    "import os\n",
    "import multiprocessing\n",
    "import itertools\n",
    "import json\n",
    "from datetime import datetime\n",
    "from sklearn.preprocessing import StandardScaler\n",
    "from sklearn.cluster import AgglomerativeClustering\n",
    "from sklearn.metrics import v_measure_score"
   ]
  },
  {
   "cell_type": "code",
   "execution_count": 4,
   "metadata": {},
   "outputs": [],
   "source": [
    "# importando os modulos definidos\n",
    "from src.Node import Node"
   ]
  },
  {
   "cell_type": "code",
   "execution_count": 5,
   "metadata": {},
   "outputs": [],
   "source": [
    "random.seed(42)"
   ]
  },
  {
   "cell_type": "markdown",
   "metadata": {},
   "source": [
    "# 1. Carregar e tratar os dados"
   ]
  },
  {
   "cell_type": "code",
   "execution_count": 6,
   "metadata": {},
   "outputs": [],
   "source": [
    "def get_data(file_name, header):\n",
    "\n",
    "    def read_csv_fle(file_name, header=0):\n",
    "        train_data = pd.read_csv(f'./data/{file_name}train.csv', header=header)\n",
    "        test_data = pd.read_csv(f'./data/{file_name}test.csv', header=header)\n",
    "        return train_data, test_data\n",
    "    \n",
    "    train_data, test_data = read_csv_fle(file_name, header)\n",
    "\n",
    "    train_labels = train_data.iloc[:, -1]\n",
    "    train_features = train_data.iloc[:, :-1]\n",
    "\n",
    "    test_labels = test_data.iloc[:, -1]\n",
    "    test_features = test_data.iloc[:, :-1]\n",
    "\n",
    "    def normalize(train_data, test_data):\n",
    "        scaler = StandardScaler()\n",
    "        scaler.fit(train_data)\n",
    "        train_data = scaler.transform(train_data)\n",
    "        test_data = scaler.transform(test_data)\n",
    "        return train_data, test_data\n",
    "    \n",
    "    train_features, test_features = normalize(train_features, test_features)\n",
    "\n",
    "    return train_features, train_labels, test_features, test_labels"
   ]
  },
  {
   "cell_type": "markdown",
   "metadata": {},
   "source": [
    "# 2. Modelagem dos Indivíduo e População"
   ]
  },
  {
   "cell_type": "markdown",
   "metadata": {},
   "source": [
    "Gera um idividuo modelado como uma árvore aleatória... usando o método grow.\n",
    "\n",
    "Inicializa a população gerando uma lista de indivíduos aleatórios."
   ]
  },
  {
   "cell_type": "code",
   "execution_count": 7,
   "metadata": {},
   "outputs": [],
   "source": [
    "def generate_random_tree(max_depth: int, current_depth: int, terminals: list, variables:list) -> Node:\n",
    "\n",
    "    if current_depth == max_depth-1 or (current_depth > 1 and random.random() > 0.5):\n",
    "        value = random.choice(variables)\n",
    "        return Node(value)\n",
    "    else:\n",
    "        op = random.choice(terminals)\n",
    "        left_subtree = generate_random_tree(max_depth, current_depth + 1, terminals, variables)\n",
    "        right_subtree = generate_random_tree(max_depth, current_depth + 1, terminals, variables)\n",
    "        return Node(op, left_subtree, right_subtree)"
   ]
  },
  {
   "cell_type": "code",
   "execution_count": 8,
   "metadata": {},
   "outputs": [],
   "source": [
    "def initialize_population_grow(pop_size:int, max_depth:int, terminals:list, variables:list) -> list:\n",
    "    population = []\n",
    "    for _ in range(pop_size):\n",
    "        population.append(generate_random_tree(max_depth=max_depth, current_depth=0, terminals=terminals, variables=variables))\n",
    "\n",
    "    return population"
   ]
  },
  {
   "cell_type": "markdown",
   "metadata": {},
   "source": [
    "# 3. Cálculo do Fitness"
   ]
  },
  {
   "cell_type": "markdown",
   "metadata": {},
   "source": [
    "Explciar cálculo da fitness através da matriz de distâncias, valor V e clusterização."
   ]
  },
  {
   "cell_type": "code",
   "execution_count": 9,
   "metadata": {},
   "outputs": [],
   "source": [
    "def evaluate_fitness(individual, differences, labels):\n",
    "    safe_dict = {}\n",
    "    safe_dict['operators'] = individual.operators\n",
    "    safe_dict.update(differences)\n",
    "\n",
    "    expression = individual.view_expression()\n",
    "\n",
    "    distance_matrix = eval(expression, {\"__builtins__\": None}, safe_dict)\n",
    "\n",
    "    num_clusters = len(np.unique(labels))\n",
    "    clustering = AgglomerativeClustering(n_clusters=num_clusters, metric='precomputed', linkage='average')\n",
    "    clustering.fit(distance_matrix)\n",
    "\n",
    "    y_pred = clustering.labels_\n",
    "    fitness = v_measure_score(labels, y_pred)\n",
    "\n",
    "    return fitness"
   ]
  },
  {
   "cell_type": "code",
   "execution_count": 10,
   "metadata": {},
   "outputs": [],
   "source": [
    "def compute_differences(features):\n",
    "    X = pd.DataFrame(features, columns=[f'x{i}' for i in range(features.shape[1])])\n",
    "    differences = {}\n",
    "    for feature in X.columns:\n",
    "        differences[feature] = X[feature].values[:, np.newaxis] - X[feature].values[np.newaxis, :]\n",
    "    return differences"
   ]
  },
  {
   "cell_type": "code",
   "execution_count": null,
   "metadata": {},
   "outputs": [],
   "source": [
    "def calculate_fitness_population(population, features, labels):\n",
    "    fitness_scores = np.array([evaluate_fitness(ind, features, labels) for ind in population])\n",
    "    return fitness_scores\n"
   ]
  },
  {
   "cell_type": "markdown",
   "metadata": {},
   "source": [
    "# 4. Operadores Genéticos"
   ]
  },
  {
   "cell_type": "markdown",
   "metadata": {},
   "source": [
    "explciar funcionamento do crossover"
   ]
  },
  {
   "cell_type": "code",
   "execution_count": null,
   "metadata": {},
   "outputs": [],
   "source": [
    "def crossover(parent1: Node, parent2: Node) -> tuple:\n",
    "    child1, child2 = copy.copy(parent1), copy.copy(parent2)\n",
    "    \n",
    "    nodes1 = child1.get_all_nodes()\n",
    "    nodes2 = child2.get_all_nodes()\n",
    "    \n",
    "    crossover_point1 = random.choice(nodes1)\n",
    "    crossover_point2 = random.choice(nodes2)\n",
    "    \n",
    "    crossover_point1.value, crossover_point2.value = crossover_point2.value, crossover_point1.value\n",
    "    crossover_point1.left, crossover_point2.left = crossover_point2.left, crossover_point1.left\n",
    "    crossover_point1.right, crossover_point2.right = crossover_point2.right, crossover_point1.right\n",
    "    \n",
    "    return child1, child2"
   ]
  },
  {
   "cell_type": "markdown",
   "metadata": {},
   "source": [
    "explicar mutação"
   ]
  },
  {
   "cell_type": "code",
   "execution_count": null,
   "metadata": {},
   "outputs": [],
   "source": [
    "def mutate(individual, terminals, variables, max_depth):\n",
    "    mutant = copy.copy(individual)\n",
    "        \n",
    "    mutation_point = random.choice(mutant.get_all_nodes())\n",
    "    new_subtree = generate_random_tree(max_depth, terminals, variables)\n",
    "\n",
    "    mutation_point.value = new_subtree.value\n",
    "    mutation_point.left = new_subtree.left\n",
    "    mutation_point.right = new_subtree.right\n",
    "    \n",
    "    return mutant"
   ]
  },
  {
   "cell_type": "markdown",
   "metadata": {},
   "source": [
    "explicar seleção por torneio"
   ]
  },
  {
   "cell_type": "code",
   "execution_count": null,
   "metadata": {},
   "outputs": [],
   "source": [
    "def selection(population, fitness_scores, tournament_size=0):\n",
    "    idx = np.random.choice(len(population), tournament_size)\n",
    "    return population[idx[np.argmax(fitness_scores[idx])]]"
   ]
  },
  {
   "cell_type": "markdown",
   "metadata": {},
   "source": [
    "# 5. Algoritmo de GP"
   ]
  },
  {
   "cell_type": "markdown",
   "metadata": {},
   "source": [
    "explicar o algoritmo de GP"
   ]
  },
  {
   "cell_type": "code",
   "execution_count": null,
   "metadata": {},
   "outputs": [],
   "source": [
    "def gp_algorithm(pop_size, max_depth, terminals, variables, generations, mutation_rate, crossover_rate, tournament_size, elitism, train_labels, test_labels, train_features, test_features):\n",
    "    history = []\n",
    "    best_fitness_train = 0\n",
    "    population = initialize_population_grow(pop_size, max_depth, terminals, variables)\n",
    "    differences = compute_differences(features)\n",
    "    for generation in range(generations):\n",
    "        # Parallel fitness calculation\n",
    "        population_fitness = calculate_fitness_population(population, train_features, train_labels)\n",
    "        best_individual = population[np.argmax(population_fitness)]\n",
    "        best_fitness_train = max(best_fitness_train, max(population_fitness))\n",
    "        history.append({\n",
    "            'generation': generation,\n",
    "            'best_fitness': max(population_fitness),\n",
    "            'min_fitness': min(population_fitness),\n",
    "            'average_fitness': np.mean(population_fitness)\n",
    "        })\n",
    "        new_population = [best_individual] if elitism else []\n",
    "        while len(new_population) < pop_size:\n",
    "            parent1, parent2 = selection(population, population_fitness, tournament_size), selection(population, population_fitness, tournament_size)\n",
    "            child1, child2 = crossover(parent1, parent2) if random.random() < crossover_rate else (parent1, parent2)\n",
    "            child1, child2 = mutate(child1, terminals, variables, max_depth//2), mutate(child2, terminals, variables, max_depth//2) if random.random() < mutation_rate else (child1, child2)\n",
    "            new_population.extend([child1, child2])\n",
    "        population = new_population[:pop_size]\n",
    "\n",
    "    best_fitness_test = evaluate_fitness(best_individual, compute_differences(test_features), test_labels)\n",
    "    return {\n",
    "        'best_train_v_measure': best_fitness_train,\n",
    "        'best_test_v_measure': best_fitness_test,\n",
    "        'best_individual': best_individual.view_expression(),\n",
    "        'history': history\n",
    "    }"
   ]
  },
  {
   "cell_type": "markdown",
   "metadata": {},
   "source": [
    "# 6. Experimentação"
   ]
  },
  {
   "cell_type": "code",
   "execution_count": 16,
   "metadata": {},
   "outputs": [],
   "source": [
    "def save_result_as_csv(result):\n",
    "    results_dir = 'results'\n",
    "    if not os.path.exists(results_dir):\n",
    "        os.makedirs(results_dir)\n",
    "    \n",
    "    filename = f\"history_experiment_{result['experiment_id']}_rep_{result['repetition']}.json\"\n",
    "    filepath = os.path.join(results_dir, filename)\n",
    "    \n",
    "    with open(filepath, 'w') as f:\n",
    "        json.dump(result, f, indent=4)\n",
    "    "
   ]
  },
  {
   "cell_type": "code",
   "execution_count": null,
   "metadata": {},
   "outputs": [],
   "source": [
    "def run_experiment(experiment_id, repetition, pop_size, max_depth, generations, mutation_rate, crossover_rate, tournament_size, elitism, config):\n",
    "\n",
    "    terminals = ['+', '-', '*', '/']\n",
    "\n",
    "    train_features, train_labels, test_features, test_labels = get_data('wineRed-', header=None)\n",
    "    variables = [f'x{i}' for i in range(len(train_features[1]))]\n",
    "\n",
    "    result = gp_algorithm(pop_size=pop_size, max_depth=max_depth, terminals=terminals, variables=variables, generations=generations, mutation_rate=mutation_rate, crossover_rate=crossover_rate, tournament_size=tournament_size, elitism=elitism, train_labels=train_labels, test_labels=test_labels, train_features=train_features, test_features=test_features)\n",
    "    \n",
    "    result['experiment_id'] = experiment_id\n",
    "    result['repetition'] = repetition\n",
    "    result['config'] = config\n",
    "    \n",
    "    result['history'] = result['history']\n",
    "\n",
    "    save_result_as_csv(result)"
   ]
  },
  {
   "cell_type": "code",
   "execution_count": 18,
   "metadata": {},
   "outputs": [],
   "source": [
    "def init_processes(tf, tl, tef, tel):\n",
    "    global train_features, train_labels, test_features, test_labels\n",
    "    train_features = tf\n",
    "    train_labels = tl\n",
    "    test_features = tef\n",
    "    test_labels = tel"
   ]
  },
  {
   "cell_type": "code",
   "execution_count": 19,
   "metadata": {},
   "outputs": [],
   "source": [
    "from multiprocessing.pool import Pool\n",
    "from concurrent.futures import ProcessPoolExecutor, as_completed\n",
    "from multiprocessing.dummy import Pool as ThreadPool\n",
    "import logging\n",
    "import threading\n",
    "from queue import Queue\n",
    "import concurrent.futures\n",
    "#from multiprocessing import Queue\n",
    "import glob\n",
    "from tqdm import tqdm"
   ]
  },
  {
   "cell_type": "code",
   "execution_count": 20,
   "metadata": {},
   "outputs": [],
   "source": [
    "def run_experiment_safe(experiment_id, repetition, population_size, max_depth, num_generation, mutation_prob, \n",
    "                        crossover_prob, tournament_size, elitism):\n",
    "    try:\n",
    "        # Set up run_config within this function\n",
    "        run_config = {\n",
    "            'population_size': population_size,\n",
    "            'num_generations': num_generation,\n",
    "            'crossover_prob': crossover_prob,\n",
    "            'mutation_prob': mutation_prob,\n",
    "            'tournament_size': tournament_size,\n",
    "            'experiment_id': experiment_id,\n",
    "            'repetition': repetition\n",
    "        }\n",
    "\n",
    "        logging.info(f\"Starting experiment {experiment_id}, repetition {repetition}\")\n",
    "        \n",
    "        # Call the original function\n",
    "        run_experiment(experiment_id, repetition, population_size, max_depth, \n",
    "                       num_generation, mutation_prob, crossover_prob, tournament_size, elitism, \n",
    "                       run_config)\n",
    "        \n",
    "        logging.info(f\"Completed experiment {experiment_id}, repetition {repetition}\")\n",
    "    except Exception as e:\n",
    "        logging.error(f\"Error in experiment {experiment_id}, repetition {repetition}: {e}\")"
   ]
  },
  {
   "cell_type": "code",
   "execution_count": null,
   "metadata": {},
   "outputs": [],
   "source": [
    "def apply_in_thread_pool(\n",
    "    num_threads, function, experiment_id, N_repetition, population_size, max_depth, num_generation, mutation_prob, \n",
    "                        crossover_prob, tournament_size, elitism\n",
    "):\n",
    "    repetitions = list(range(N_repetition))\n",
    "\n",
    "    with ThreadPool(num_threads) as pool:\n",
    "        result = pool.map(\n",
    "            lambda repetition: function(experiment_id, repetition, population_size, max_depth, num_generation, mutation_prob, \n",
    "                        crossover_prob, tournament_size, elitism),\n",
    "            repetitions,\n",
    "            chunksize=10\n",
    "        )\n",
    "        assert len(result) == len(N_repetition)"
   ]
  },
  {
   "cell_type": "code",
   "execution_count": 22,
   "metadata": {},
   "outputs": [],
   "source": [
    "def run_experiment_worker(progress_queue, experiment_id, repetition, population_size, max_depth, num_generation, mutation_prob, crossover_prob, tournament_size, elitism):\n",
    "    run_experiment_safe(experiment_id, repetition, population_size, max_depth, num_generation, mutation_prob, crossover_prob, tournament_size, elitism)\n",
    "    progress_queue.put(1)  # Marca progresso\n",
    "\n",
    "def run_experiment_parallel(experiment_id, n_repetitions, population_size, max_depth, num_generation, mutation_prob, crossover_prob, tournament_size, elitism):\n",
    "    progress_queue = Queue()\n",
    "\n",
    "    with concurrent.futures.ThreadPoolExecutor(max_workers=5) as executor:  # Ajuste max_workers conforme necessário\n",
    "        futures = [\n",
    "            executor.submit(run_experiment_worker, progress_queue, experiment_id, rep, population_size, max_depth, num_generation, mutation_prob, crossover_prob, tournament_size, elitism)\n",
    "            for rep in range(n_repetitions)\n",
    "        ]\n",
    "\n",
    "        for _ in tqdm(range(n_repetitions), desc=\"Progress\"):\n",
    "            progress_queue.get()  # Espera cada repetição completar\n",
    "\n",
    "        # Aguarda todas as threads finalizarem\n",
    "        concurrent.futures.wait(futures)"
   ]
  },
  {
   "cell_type": "code",
   "execution_count": 23,
   "metadata": {},
   "outputs": [],
   "source": [
    "import glob"
   ]
  },
  {
   "cell_type": "code",
   "execution_count": 24,
   "metadata": {},
   "outputs": [],
   "source": [
    "def test_population(config):\n",
    "    pop_size = config['population_size']\n",
    "    max_depth = config['max_individual_size']\n",
    "    num_generations = config['num_generations']\n",
    "    elitism = config['elitism']\n",
    "    n_repetitions = config['n_repetitions']\n",
    "    experiment_id = config['experiment_id']\n",
    "\n",
    "    # Define parâmetros fixos para evitar repetição desnecessária\n",
    "    crossover_prob = 0.9\n",
    "    mutation_prob = 0.05\n",
    "    tournament_size = 2\n",
    "\n",
    "  # Verifica arquivos apenas uma vez\n",
    "\n",
    "    for population_size in tqdm(pop_size, desc='Population Size'):\n",
    "        for num_generation in tqdm(num_generations, desc='Number of Generations'):\n",
    "            pattern = f'results/history_experiment_{experiment_id}*.json'\n",
    "            if not glob.glob(pattern):\n",
    "                apply_in_thread_pool(4, run_experiment_safe, experiment_id, n_repetitions, population_size, max_depth, num_generation, mutation_prob, crossover_prob, tournament_size, elitism)\n",
    "            experiment_id += 1"
   ]
  },
  {
   "cell_type": "markdown",
   "metadata": {},
   "source": [
    "# 7. Rodar Experimentos"
   ]
  },
  {
   "cell_type": "code",
   "execution_count": 25,
   "metadata": {},
   "outputs": [],
   "source": [
    "# PARAMETROS DO ALGORITMO GENETICO\n",
    "\n",
    "### FIXOS ###\n",
    "TAMANHO_MAXIMO_INDIVIDUO = 7\n",
    "ELITISMO = True\n",
    "REPETICOES = 10\n",
    "TERMINAIS = ['+', '-', '*', '/']\n",
    "\n",
    "### VARIÁVEIS ###\n",
    "TAMAHO_POPULACAO = [30, 50, 100, 500]\n",
    "NUMERO_GERACOES = [30, 50, 100, 500]\n",
    "K_TORNEIO = [2,3,5,7]\n",
    "PROB_OPERADORES = [\n",
    "        {'CROSSOVER': 0.9, 'MUTATION': 0.05},\n",
    "        {'CROSSOVER': 0.6, 'MUTATION': 0.3},\n",
    "    ]\n",
    "\n",
    "# PARAMETROS DO DATASET\n",
    "WINE_FILE_NAME = 'wineRed-'\n",
    "BREAST_CANCER_FILE_NAME = 'breast_cancer_coimbra_'"
   ]
  },
  {
   "cell_type": "code",
   "execution_count": 26,
   "metadata": {},
   "outputs": [
    {
     "data": {
      "text/plain": [
       "12"
      ]
     },
     "execution_count": 26,
     "metadata": {},
     "output_type": "execute_result"
    }
   ],
   "source": [
    "import os\n",
    "os.cpu_count()"
   ]
  },
  {
   "cell_type": "markdown",
   "metadata": {},
   "source": [
    "### 7.1 Teste População"
   ]
  },
  {
   "cell_type": "code",
   "execution_count": 27,
   "metadata": {},
   "outputs": [
    {
     "name": "stderr",
     "output_type": "stream",
     "text": [
      "Number of Generations:  75%|███████▌  | 3/4 [00:00<00:00, 113.79it/s]\n",
      "Population Size:   0%|          | 0/4 [00:00<?, ?it/s]\n"
     ]
    },
    {
     "ename": "TypeError",
     "evalue": "'int' object is not iterable",
     "output_type": "error",
     "traceback": [
      "\u001b[1;31m---------------------------------------------------------------------------\u001b[0m",
      "\u001b[1;31mTypeError\u001b[0m                                 Traceback (most recent call last)",
      "Cell \u001b[1;32mIn[27], line 12\u001b[0m\n\u001b[0;32m      1\u001b[0m experiment_id \u001b[38;5;241m=\u001b[39m \u001b[38;5;241m1\u001b[39m\n\u001b[0;32m      3\u001b[0m config \u001b[38;5;241m=\u001b[39m {\n\u001b[0;32m      4\u001b[0m     \u001b[38;5;124m'\u001b[39m\u001b[38;5;124mpopulation_size\u001b[39m\u001b[38;5;124m'\u001b[39m: TAMAHO_POPULACAO,\n\u001b[0;32m      5\u001b[0m     \u001b[38;5;124m'\u001b[39m\u001b[38;5;124mmax_individual_size\u001b[39m\u001b[38;5;124m'\u001b[39m: TAMANHO_MAXIMO_INDIVIDUO,\n\u001b[1;32m   (...)\u001b[0m\n\u001b[0;32m      9\u001b[0m     \u001b[38;5;124m'\u001b[39m\u001b[38;5;124mexperiment_id\u001b[39m\u001b[38;5;124m'\u001b[39m: experiment_id\n\u001b[0;32m     10\u001b[0m }\n\u001b[1;32m---> 12\u001b[0m \u001b[43mtest_population\u001b[49m\u001b[43m(\u001b[49m\u001b[43mconfig\u001b[49m\u001b[43m)\u001b[49m\n",
      "Cell \u001b[1;32mIn[24], line 20\u001b[0m, in \u001b[0;36mtest_population\u001b[1;34m(config)\u001b[0m\n\u001b[0;32m     18\u001b[0m pattern \u001b[38;5;241m=\u001b[39m \u001b[38;5;124mf\u001b[39m\u001b[38;5;124m'\u001b[39m\u001b[38;5;124mresults/history_experiment_\u001b[39m\u001b[38;5;132;01m{\u001b[39;00mexperiment_id\u001b[38;5;132;01m}\u001b[39;00m\u001b[38;5;124m*.json\u001b[39m\u001b[38;5;124m'\u001b[39m\n\u001b[0;32m     19\u001b[0m \u001b[38;5;28;01mif\u001b[39;00m \u001b[38;5;129;01mnot\u001b[39;00m glob\u001b[38;5;241m.\u001b[39mglob(pattern):\n\u001b[1;32m---> 20\u001b[0m     \u001b[43mapply_in_thread_pool\u001b[49m\u001b[43m(\u001b[49m\u001b[38;5;241;43m4\u001b[39;49m\u001b[43m,\u001b[49m\u001b[43m \u001b[49m\u001b[43mrun_experiment_safe\u001b[49m\u001b[43m,\u001b[49m\u001b[43m \u001b[49m\u001b[43mexperiment_id\u001b[49m\u001b[43m,\u001b[49m\u001b[43m \u001b[49m\u001b[43mn_repetitions\u001b[49m\u001b[43m,\u001b[49m\u001b[43m \u001b[49m\u001b[43mpopulation_size\u001b[49m\u001b[43m,\u001b[49m\u001b[43m \u001b[49m\u001b[43mmax_depth\u001b[49m\u001b[43m,\u001b[49m\u001b[43m \u001b[49m\u001b[43mnum_generation\u001b[49m\u001b[43m,\u001b[49m\u001b[43m \u001b[49m\u001b[43mmutation_prob\u001b[49m\u001b[43m,\u001b[49m\u001b[43m \u001b[49m\u001b[43mcrossover_prob\u001b[49m\u001b[43m,\u001b[49m\u001b[43m \u001b[49m\u001b[43mtournament_size\u001b[49m\u001b[43m,\u001b[49m\u001b[43m \u001b[49m\u001b[43melitism\u001b[49m\u001b[43m)\u001b[49m\n\u001b[0;32m     21\u001b[0m experiment_id \u001b[38;5;241m+\u001b[39m\u001b[38;5;241m=\u001b[39m \u001b[38;5;241m1\u001b[39m\n",
      "Cell \u001b[1;32mIn[21], line 6\u001b[0m, in \u001b[0;36mapply_in_thread_pool\u001b[1;34m(num_threads, function, experiment_id, N_repetition, population_size, max_depth, num_generation, mutation_prob, crossover_prob, tournament_size, elitism)\u001b[0m\n\u001b[0;32m      1\u001b[0m \u001b[38;5;28;01mdef\u001b[39;00m \u001b[38;5;21mapply_in_thread_pool\u001b[39m(\n\u001b[0;32m      2\u001b[0m     num_threads, function, experiment_id, N_repetition, population_size, max_depth, num_generation, mutation_prob, \n\u001b[0;32m      3\u001b[0m                         crossover_prob, tournament_size, elitism\n\u001b[0;32m      4\u001b[0m ):\n\u001b[0;32m      5\u001b[0m     \u001b[38;5;28;01mwith\u001b[39;00m ThreadPool(num_threads) \u001b[38;5;28;01mas\u001b[39;00m pool:\n\u001b[1;32m----> 6\u001b[0m         result \u001b[38;5;241m=\u001b[39m \u001b[43mpool\u001b[49m\u001b[38;5;241;43m.\u001b[39;49m\u001b[43mmap\u001b[49m\u001b[43m(\u001b[49m\n\u001b[0;32m      7\u001b[0m \u001b[43m            \u001b[49m\u001b[38;5;28;43;01mlambda\u001b[39;49;00m\u001b[43m \u001b[49m\u001b[43mrepetition\u001b[49m\u001b[43m:\u001b[49m\u001b[43m \u001b[49m\u001b[43mfunction\u001b[49m\u001b[43m(\u001b[49m\u001b[43mexperiment_id\u001b[49m\u001b[43m,\u001b[49m\u001b[43m \u001b[49m\u001b[43mrepetition\u001b[49m\u001b[43m,\u001b[49m\u001b[43m \u001b[49m\u001b[43mpopulation_size\u001b[49m\u001b[43m,\u001b[49m\u001b[43m \u001b[49m\u001b[43mmax_depth\u001b[49m\u001b[43m,\u001b[49m\u001b[43m \u001b[49m\u001b[43mnum_generation\u001b[49m\u001b[43m,\u001b[49m\u001b[43m \u001b[49m\u001b[43mmutation_prob\u001b[49m\u001b[43m,\u001b[49m\u001b[43m \u001b[49m\n\u001b[0;32m      8\u001b[0m \u001b[43m                        \u001b[49m\u001b[43mcrossover_prob\u001b[49m\u001b[43m,\u001b[49m\u001b[43m \u001b[49m\u001b[43mtournament_size\u001b[49m\u001b[43m,\u001b[49m\u001b[43m \u001b[49m\u001b[43melitism\u001b[49m\u001b[43m)\u001b[49m\u001b[43m,\u001b[49m\n\u001b[0;32m      9\u001b[0m \u001b[43m            \u001b[49m\u001b[43mN_repetition\u001b[49m\u001b[43m,\u001b[49m\n\u001b[0;32m     10\u001b[0m \u001b[43m            \u001b[49m\u001b[43mchunksize\u001b[49m\u001b[38;5;241;43m=\u001b[39;49m\u001b[38;5;241;43m10\u001b[39;49m\n\u001b[0;32m     11\u001b[0m \u001b[43m        \u001b[49m\u001b[43m)\u001b[49m\n\u001b[0;32m     12\u001b[0m         \u001b[38;5;28;01massert\u001b[39;00m \u001b[38;5;28mlen\u001b[39m(result) \u001b[38;5;241m==\u001b[39m \u001b[38;5;28mlen\u001b[39m(N_repetition)\n",
      "File \u001b[1;32m~\\AppData\\Local\\Programs\\Python\\Python312\\Lib\\multiprocessing\\pool.py:367\u001b[0m, in \u001b[0;36mPool.map\u001b[1;34m(self, func, iterable, chunksize)\u001b[0m\n\u001b[0;32m    362\u001b[0m \u001b[38;5;28;01mdef\u001b[39;00m \u001b[38;5;21mmap\u001b[39m(\u001b[38;5;28mself\u001b[39m, func, iterable, chunksize\u001b[38;5;241m=\u001b[39m\u001b[38;5;28;01mNone\u001b[39;00m):\n\u001b[0;32m    363\u001b[0m \u001b[38;5;250m    \u001b[39m\u001b[38;5;124;03m'''\u001b[39;00m\n\u001b[0;32m    364\u001b[0m \u001b[38;5;124;03m    Apply `func` to each element in `iterable`, collecting the results\u001b[39;00m\n\u001b[0;32m    365\u001b[0m \u001b[38;5;124;03m    in a list that is returned.\u001b[39;00m\n\u001b[0;32m    366\u001b[0m \u001b[38;5;124;03m    '''\u001b[39;00m\n\u001b[1;32m--> 367\u001b[0m     \u001b[38;5;28;01mreturn\u001b[39;00m \u001b[38;5;28;43mself\u001b[39;49m\u001b[38;5;241;43m.\u001b[39;49m\u001b[43m_map_async\u001b[49m\u001b[43m(\u001b[49m\u001b[43mfunc\u001b[49m\u001b[43m,\u001b[49m\u001b[43m \u001b[49m\u001b[43miterable\u001b[49m\u001b[43m,\u001b[49m\u001b[43m \u001b[49m\u001b[43mmapstar\u001b[49m\u001b[43m,\u001b[49m\u001b[43m \u001b[49m\u001b[43mchunksize\u001b[49m\u001b[43m)\u001b[49m\u001b[38;5;241m.\u001b[39mget()\n",
      "File \u001b[1;32m~\\AppData\\Local\\Programs\\Python\\Python312\\Lib\\multiprocessing\\pool.py:478\u001b[0m, in \u001b[0;36mPool._map_async\u001b[1;34m(self, func, iterable, mapper, chunksize, callback, error_callback)\u001b[0m\n\u001b[0;32m    476\u001b[0m \u001b[38;5;28mself\u001b[39m\u001b[38;5;241m.\u001b[39m_check_running()\n\u001b[0;32m    477\u001b[0m \u001b[38;5;28;01mif\u001b[39;00m \u001b[38;5;129;01mnot\u001b[39;00m \u001b[38;5;28mhasattr\u001b[39m(iterable, \u001b[38;5;124m'\u001b[39m\u001b[38;5;124m__len__\u001b[39m\u001b[38;5;124m'\u001b[39m):\n\u001b[1;32m--> 478\u001b[0m     iterable \u001b[38;5;241m=\u001b[39m \u001b[38;5;28;43mlist\u001b[39;49m\u001b[43m(\u001b[49m\u001b[43miterable\u001b[49m\u001b[43m)\u001b[49m\n\u001b[0;32m    480\u001b[0m \u001b[38;5;28;01mif\u001b[39;00m chunksize \u001b[38;5;129;01mis\u001b[39;00m \u001b[38;5;28;01mNone\u001b[39;00m:\n\u001b[0;32m    481\u001b[0m     chunksize, extra \u001b[38;5;241m=\u001b[39m \u001b[38;5;28mdivmod\u001b[39m(\u001b[38;5;28mlen\u001b[39m(iterable), \u001b[38;5;28mlen\u001b[39m(\u001b[38;5;28mself\u001b[39m\u001b[38;5;241m.\u001b[39m_pool) \u001b[38;5;241m*\u001b[39m \u001b[38;5;241m4\u001b[39m)\n",
      "\u001b[1;31mTypeError\u001b[0m: 'int' object is not iterable"
     ]
    }
   ],
   "source": [
    "experiment_id = 1\n",
    "\n",
    "config = {\n",
    "    'population_size': TAMAHO_POPULACAO,\n",
    "    'max_individual_size': TAMANHO_MAXIMO_INDIVIDUO,\n",
    "    'num_generations': NUMERO_GERACOES,\n",
    "    'elitism': ELITISMO,\n",
    "    'n_repetitions': REPETICOES,\n",
    "    'experiment_id': experiment_id\n",
    "}\n",
    "\n",
    "test_population(config)"
   ]
  },
  {
   "attachments": {
    "image.png": {
     "image/png": "[encoded data removed]"
    }
   },
   "cell_type": "markdown",
   "metadata": {},
   "source": [
    "![image.png](attachment:image.png)"
   ]
  },
  {
   "cell_type": "code",
   "execution_count": null,
   "metadata": {},
   "outputs": [],
   "source": []
  },
  {
   "cell_type": "code",
   "execution_count": null,
   "metadata": {},
   "outputs": [],
   "source": []
  },
  {
   "cell_type": "code",
   "execution_count": null,
   "metadata": {},
   "outputs": [],
   "source": []
  }
 ],
 "metadata": {
  "kernelspec": {
   "display_name": ".venv",
   "language": "python",
   "name": "python3"
  },
  "language_info": {
   "codemirror_mode": {
    "name": "ipython",
    "version": 3
   },
   "file_extension": ".py",
   "mimetype": "text/x-python",
   "name": "python",
   "nbconvert_exporter": "python",
   "pygments_lexer": "ipython3",
   "version": "3.12.3"
  }
 },
 "nbformat": 4,
 "nbformat_minor": 2
}

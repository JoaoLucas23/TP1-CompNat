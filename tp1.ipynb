{
 "cells": [
  {
   "cell_type": "code",
   "execution_count": null,
   "metadata": {},
   "outputs": [],
   "source": [
    "# importando as bibliotecas\n",
    "import numpy as np\n",
    "import pandas as pd\n",
    "import random\n",
    "from tqdm.auto import tqdm\n",
    "from sklearn.preprocessing import StandardScaler\n",
    "from sklearn.cluster import AgglomerativeClustering\n",
    "from sklearn.metrics import v_measure_score"
   ]
  },
  {
   "cell_type": "code",
   "execution_count": 3,
   "metadata": {},
   "outputs": [],
   "source": [
    "# importando os modulos definidos\n",
    "from src.Node import Node"
   ]
  },
  {
   "cell_type": "markdown",
   "metadata": {},
   "source": [
    "# Carregamento de dados"
   ]
  },
  {
   "cell_type": "code",
   "execution_count": 4,
   "metadata": {},
   "outputs": [],
   "source": [
    "def load_dataset(dataset_name, header=None):\n",
    "    train_path = f'./data/{dataset_name}train.csv'\n",
    "    test_path = f'./data/{dataset_name}test.csv'\n",
    "\n",
    "    train_data = pd.read_csv(filepath_or_buffer=train_path, header=header)\n",
    "    test_data = pd.read_csv(filepath_or_buffer=test_path, header=header)\n",
    "    \n",
    "    return train_data, test_data"
   ]
  },
  {
   "cell_type": "code",
   "execution_count": 5,
   "metadata": {},
   "outputs": [
    {
     "name": "stdout",
     "output_type": "stream",
     "text": [
      "(92, 10) (24, 10)\n"
     ]
    }
   ],
   "source": [
    "breast_cancer_train_data, breast_cancer_test_data = load_dataset('breast_cancer_coimbra_', header=0)\n",
    "print(breast_cancer_train_data.shape, breast_cancer_test_data.shape)"
   ]
  },
  {
   "cell_type": "code",
   "execution_count": 6,
   "metadata": {},
   "outputs": [
    {
     "data": {
      "text/html": [
       "<div>\n",
       "<style scoped>\n",
       "    .dataframe tbody tr th:only-of-type {\n",
       "        vertical-align: middle;\n",
       "    }\n",
       "\n",
       "    .dataframe tbody tr th {\n",
       "        vertical-align: top;\n",
       "    }\n",
       "\n",
       "    .dataframe thead th {\n",
       "        text-align: right;\n",
       "    }\n",
       "</style>\n",
       "<table border=\"1\" class=\"dataframe\">\n",
       "  <thead>\n",
       "    <tr style=\"text-align: right;\">\n",
       "      <th></th>\n",
       "      <th>Age</th>\n",
       "      <th>BMI</th>\n",
       "      <th>Glucose</th>\n",
       "      <th>Insulin</th>\n",
       "      <th>HOMA</th>\n",
       "      <th>Leptin</th>\n",
       "      <th>Adiponectin</th>\n",
       "      <th>Resistin</th>\n",
       "      <th>MCP.1</th>\n",
       "      <th>Classification</th>\n",
       "    </tr>\n",
       "  </thead>\n",
       "  <tbody>\n",
       "    <tr>\n",
       "      <th>0</th>\n",
       "      <td>44</td>\n",
       "      <td>20.760000</td>\n",
       "      <td>86</td>\n",
       "      <td>7.553</td>\n",
       "      <td>1.600000</td>\n",
       "      <td>14.0900</td>\n",
       "      <td>20.320000</td>\n",
       "      <td>7.64000</td>\n",
       "      <td>63.610</td>\n",
       "      <td>1</td>\n",
       "    </tr>\n",
       "    <tr>\n",
       "      <th>1</th>\n",
       "      <td>46</td>\n",
       "      <td>20.830000</td>\n",
       "      <td>88</td>\n",
       "      <td>3.420</td>\n",
       "      <td>0.742368</td>\n",
       "      <td>12.8700</td>\n",
       "      <td>18.550000</td>\n",
       "      <td>13.56000</td>\n",
       "      <td>301.210</td>\n",
       "      <td>2</td>\n",
       "    </tr>\n",
       "    <tr>\n",
       "      <th>2</th>\n",
       "      <td>53</td>\n",
       "      <td>36.790166</td>\n",
       "      <td>101</td>\n",
       "      <td>10.175</td>\n",
       "      <td>2.534932</td>\n",
       "      <td>27.1841</td>\n",
       "      <td>20.030000</td>\n",
       "      <td>10.26309</td>\n",
       "      <td>695.754</td>\n",
       "      <td>1</td>\n",
       "    </tr>\n",
       "    <tr>\n",
       "      <th>3</th>\n",
       "      <td>54</td>\n",
       "      <td>30.483158</td>\n",
       "      <td>90</td>\n",
       "      <td>5.537</td>\n",
       "      <td>1.229214</td>\n",
       "      <td>12.3310</td>\n",
       "      <td>9.731380</td>\n",
       "      <td>10.19299</td>\n",
       "      <td>1227.910</td>\n",
       "      <td>1</td>\n",
       "    </tr>\n",
       "    <tr>\n",
       "      <th>4</th>\n",
       "      <td>34</td>\n",
       "      <td>24.242424</td>\n",
       "      <td>92</td>\n",
       "      <td>21.699</td>\n",
       "      <td>4.924226</td>\n",
       "      <td>16.7353</td>\n",
       "      <td>21.823745</td>\n",
       "      <td>12.06534</td>\n",
       "      <td>481.949</td>\n",
       "      <td>2</td>\n",
       "    </tr>\n",
       "  </tbody>\n",
       "</table>\n",
       "</div>"
      ],
      "text/plain": [
       "   Age        BMI  Glucose  Insulin      HOMA   Leptin  Adiponectin  Resistin  \\\n",
       "0   44  20.760000       86    7.553  1.600000  14.0900    20.320000   7.64000   \n",
       "1   46  20.830000       88    3.420  0.742368  12.8700    18.550000  13.56000   \n",
       "2   53  36.790166      101   10.175  2.534932  27.1841    20.030000  10.26309   \n",
       "3   54  30.483158       90    5.537  1.229214  12.3310     9.731380  10.19299   \n",
       "4   34  24.242424       92   21.699  4.924226  16.7353    21.823745  12.06534   \n",
       "\n",
       "      MCP.1  Classification  \n",
       "0    63.610               1  \n",
       "1   301.210               2  \n",
       "2   695.754               1  \n",
       "3  1227.910               1  \n",
       "4   481.949               2  "
      ]
     },
     "execution_count": 6,
     "metadata": {},
     "output_type": "execute_result"
    }
   ],
   "source": [
    "breast_cancer_train_data.head()"
   ]
  },
  {
   "cell_type": "markdown",
   "metadata": {},
   "source": [
    "* 0 - fixed acidity (tartaric acid - g / dm^3)\n",
    "* 1 - volatile acidity (acetic acid - g / dm^3)\n",
    "* 2 - citric acid (g / dm^3)\n",
    "* 3 - residual sugar (g / dm^3)\n",
    "* 4 - chlorides (sodium chloride - g / dm^3)\n",
    "* 5 - free sulfur dioxide (mg / dm^3)\n",
    "* 6 - total sulfur dioxide (mg / dm^3)\n",
    "* 7 - density (g / cm^3)\n",
    "* 8 - pH\n",
    "* 9 - sulphates (potassium sulphate - g / dm3)\n",
    "* 10 - alcohol (% by volume)\n",
    "* 11 - quality (score between 0 and 10) - output variable"
   ]
  },
  {
   "cell_type": "code",
   "execution_count": 7,
   "metadata": {},
   "outputs": [
    {
     "name": "stdout",
     "output_type": "stream",
     "text": [
      "(1279, 12) (320, 12)\n"
     ]
    }
   ],
   "source": [
    "wine_train_data, wine_test_data = load_dataset('wineRed-', header=None)\n",
    "print(wine_train_data.shape, wine_test_data.shape)"
   ]
  },
  {
   "cell_type": "code",
   "execution_count": 8,
   "metadata": {},
   "outputs": [
    {
     "data": {
      "text/html": [
       "<div>\n",
       "<style scoped>\n",
       "    .dataframe tbody tr th:only-of-type {\n",
       "        vertical-align: middle;\n",
       "    }\n",
       "\n",
       "    .dataframe tbody tr th {\n",
       "        vertical-align: top;\n",
       "    }\n",
       "\n",
       "    .dataframe thead th {\n",
       "        text-align: right;\n",
       "    }\n",
       "</style>\n",
       "<table border=\"1\" class=\"dataframe\">\n",
       "  <thead>\n",
       "    <tr style=\"text-align: right;\">\n",
       "      <th></th>\n",
       "      <th>0</th>\n",
       "      <th>1</th>\n",
       "      <th>2</th>\n",
       "      <th>3</th>\n",
       "      <th>4</th>\n",
       "      <th>5</th>\n",
       "      <th>6</th>\n",
       "      <th>7</th>\n",
       "      <th>8</th>\n",
       "      <th>9</th>\n",
       "      <th>10</th>\n",
       "      <th>11</th>\n",
       "    </tr>\n",
       "  </thead>\n",
       "  <tbody>\n",
       "    <tr>\n",
       "      <th>0</th>\n",
       "      <td>7.4</td>\n",
       "      <td>0.640</td>\n",
       "      <td>0.17</td>\n",
       "      <td>5.40</td>\n",
       "      <td>0.168</td>\n",
       "      <td>52.0</td>\n",
       "      <td>98.0</td>\n",
       "      <td>0.99736</td>\n",
       "      <td>3.28</td>\n",
       "      <td>0.50</td>\n",
       "      <td>9.5</td>\n",
       "      <td>5</td>\n",
       "    </tr>\n",
       "    <tr>\n",
       "      <th>1</th>\n",
       "      <td>10.4</td>\n",
       "      <td>0.440</td>\n",
       "      <td>0.73</td>\n",
       "      <td>6.55</td>\n",
       "      <td>0.074</td>\n",
       "      <td>38.0</td>\n",
       "      <td>76.0</td>\n",
       "      <td>0.99900</td>\n",
       "      <td>3.17</td>\n",
       "      <td>0.85</td>\n",
       "      <td>12.0</td>\n",
       "      <td>7</td>\n",
       "    </tr>\n",
       "    <tr>\n",
       "      <th>2</th>\n",
       "      <td>10.7</td>\n",
       "      <td>0.430</td>\n",
       "      <td>0.39</td>\n",
       "      <td>2.20</td>\n",
       "      <td>0.106</td>\n",
       "      <td>8.0</td>\n",
       "      <td>32.0</td>\n",
       "      <td>0.99860</td>\n",
       "      <td>2.89</td>\n",
       "      <td>0.50</td>\n",
       "      <td>9.6</td>\n",
       "      <td>5</td>\n",
       "    </tr>\n",
       "    <tr>\n",
       "      <th>3</th>\n",
       "      <td>8.9</td>\n",
       "      <td>0.635</td>\n",
       "      <td>0.37</td>\n",
       "      <td>1.70</td>\n",
       "      <td>0.263</td>\n",
       "      <td>5.0</td>\n",
       "      <td>62.0</td>\n",
       "      <td>0.99710</td>\n",
       "      <td>3.00</td>\n",
       "      <td>1.09</td>\n",
       "      <td>9.3</td>\n",
       "      <td>5</td>\n",
       "    </tr>\n",
       "    <tr>\n",
       "      <th>4</th>\n",
       "      <td>7.8</td>\n",
       "      <td>0.570</td>\n",
       "      <td>0.09</td>\n",
       "      <td>2.30</td>\n",
       "      <td>0.065</td>\n",
       "      <td>34.0</td>\n",
       "      <td>45.0</td>\n",
       "      <td>0.99417</td>\n",
       "      <td>3.46</td>\n",
       "      <td>0.74</td>\n",
       "      <td>12.7</td>\n",
       "      <td>8</td>\n",
       "    </tr>\n",
       "  </tbody>\n",
       "</table>\n",
       "</div>"
      ],
      "text/plain": [
       "     0      1     2     3      4     5     6        7     8     9     10  11\n",
       "0   7.4  0.640  0.17  5.40  0.168  52.0  98.0  0.99736  3.28  0.50   9.5   5\n",
       "1  10.4  0.440  0.73  6.55  0.074  38.0  76.0  0.99900  3.17  0.85  12.0   7\n",
       "2  10.7  0.430  0.39  2.20  0.106   8.0  32.0  0.99860  2.89  0.50   9.6   5\n",
       "3   8.9  0.635  0.37  1.70  0.263   5.0  62.0  0.99710  3.00  1.09   9.3   5\n",
       "4   7.8  0.570  0.09  2.30  0.065  34.0  45.0  0.99417  3.46  0.74  12.7   8"
      ]
     },
     "execution_count": 8,
     "metadata": {},
     "output_type": "execute_result"
    }
   ],
   "source": [
    "wine_train_data.head()"
   ]
  },
  {
   "cell_type": "code",
   "execution_count": 9,
   "metadata": {},
   "outputs": [],
   "source": [
    "wine_train_data = wine_train_data[:-1]\n",
    "wine_train_labels = wine_train_data.iloc[:, -1]\n",
    "\n",
    "wine_test_data = wine_test_data[:-1]\n",
    "wine_test_labels = wine_test_data.iloc[:, -1]"
   ]
  },
  {
   "cell_type": "markdown",
   "metadata": {},
   "source": [
    "### Transformação de dados"
   ]
  },
  {
   "cell_type": "code",
   "execution_count": 10,
   "metadata": {},
   "outputs": [],
   "source": [
    "def normalize(train_data, test_data):\n",
    "    scaler = StandardScaler()\n",
    "    scaler.fit(train_data)\n",
    "    return scaler.transform(train_data), scaler.transform(test_data)"
   ]
  },
  {
   "cell_type": "code",
   "execution_count": 11,
   "metadata": {},
   "outputs": [
    {
     "data": {
      "text/plain": [
       "array([[-0.5388674 ,  0.64743164, -0.528528  , ..., -0.92014031,\n",
       "        -0.85311605, -0.78179359],\n",
       "       [ 1.19074131, -0.48022442,  2.33770613, ...,  1.08316347,\n",
       "         1.50847219,  1.69744267],\n",
       "       [ 1.36370218, -0.53660723,  0.59749255, ..., -0.92014031,\n",
       "        -0.75865252, -0.78179359],\n",
       "       ...,\n",
       "       [ 0.61420507, -0.64937283,  1.05813732, ...,  0.73973996,\n",
       "         1.69739925,  1.69744267],\n",
       "       [-0.82713551,  0.08360361, -1.19390378, ...,  1.42658697,\n",
       "        -0.94757958,  0.45782454],\n",
       "       [ 0.32593696,  0.47828323,  1.10932007, ...,  2.05619674,\n",
       "        -1.04204311, -0.78179359]])"
      ]
     },
     "execution_count": 11,
     "metadata": {},
     "output_type": "execute_result"
    }
   ],
   "source": [
    "wine_train_data_normalized,wine_test_data_normalized = normalize(wine_train_data,wine_test_data)\n",
    "wine_train_data_normalized"
   ]
  },
  {
   "cell_type": "markdown",
   "metadata": {},
   "source": [
    "# Modelagem dos indivíduos"
   ]
  },
  {
   "cell_type": "code",
   "execution_count": 12,
   "metadata": {},
   "outputs": [],
   "source": [
    "TAMANHO_MAXIMO_INDIVIDUO = 7\n",
    "TERMINAIS = ['+', '-', '*', '/']"
   ]
  },
  {
   "cell_type": "code",
   "execution_count": 13,
   "metadata": {},
   "outputs": [],
   "source": [
    "def generate_random_tree(max_depth: int, terminals: list, variables:list, method:str='grow') -> Node:\n",
    "    if max_depth == 0:\n",
    "        if random.random() < 0.5:\n",
    "            value = random.choice(variables)\n",
    "        else:\n",
    "            value = random.uniform(-10, 10)\n",
    "        return Node(value)\n",
    "    \n",
    "    if method == 'full':\n",
    "        # Sempre gera operadores até a profundidade máxima\n",
    "        op = random.choice(terminals)\n",
    "        left_subtree = generate_random_tree(max_depth - 1, terminals, variables, method='full')\n",
    "        right_subtree = generate_random_tree(max_depth - 1, terminals, variables, method='full')\n",
    "        return Node(op, left_subtree, right_subtree)\n",
    "    \n",
    "    elif method == 'grow':\n",
    "        # Decide aleatoriamente entre operador e folha\n",
    "        if random.random() < 0.5:\n",
    "            # Gera operador\n",
    "            op = random.choice(terminals)\n",
    "            left_subtree = generate_random_tree(max_depth - 1, terminals, variables, method='grow')\n",
    "            right_subtree = generate_random_tree(max_depth - 1, terminals, variables, method='grow')\n",
    "            return Node(op, left_subtree, right_subtree)\n",
    "        else:\n",
    "            # Gera folha\n",
    "            if random.random() < 0.5:\n",
    "                value = random.choice(variables)\n",
    "            else:\n",
    "                value = random.uniform(-10, 10)\n",
    "            return Node(value)"
   ]
  },
  {
   "cell_type": "code",
   "execution_count": 14,
   "metadata": {},
   "outputs": [
    {
     "data": {
      "text/plain": [
       "<src.Node.Node at 0x1b865684380>"
      ]
     },
     "execution_count": 14,
     "metadata": {},
     "output_type": "execute_result"
    }
   ],
   "source": [
    "variables = [f'x{i}' for i in range(wine_train_data_normalized.shape[1])]\n",
    "\n",
    "# Gerando uma árvore aleatória\n",
    "tree = generate_random_tree(max_depth=TAMANHO_MAXIMO_INDIVIDUO, terminals=TERMINAIS, variables=variables, method='full')\n",
    "tree"
   ]
  },
  {
   "cell_type": "code",
   "execution_count": 15,
   "metadata": {},
   "outputs": [
    {
     "data": {
      "text/plain": [
       "'(((((((-2.9324929040997 + x1) / (4.020281776948893 - 2.8547766966900596)) / ((x8 + 9.17600792903) - (5.677210617239211 * 1.0439983750923183))) - (((x1 / x1) / (x4 * -2.171365432547563)) * ((6.652391954346982 + x1) * (-6.911904953753069 + x9)))) + ((((7.394962984597612 + -8.0415151622285) + (x10 * -6.870725445454681)) + ((-1.0768365959421686 / 3.1079473347810076) + (-8.614595581676785 * 1.667593517859384))) / (((3.4600167828425015 + x9) * (x4 + 2.0686333704214395)) + ((x0 + -3.285100645071304) / (5.563817297750617 * x5))))) - (((((x3 / x4) - (x1 + x4)) + ((-9.099346226296545 * x9) - (x11 / 9.127024485426752))) - (((9.075490252968969 / -4.60201138722538) + (3.697135079382438 + 1.782285894719804)) - ((0.7477831599549507 + -7.543237945013455) / (2.9684823135129292 - -2.742067668423571)))) * ((((8.675447039481352 - 2.717224081764398) * (x6 - 9.150778997444252)) / ((-0.3005787322895479 * -3.0068707096386182) * (x3 - 8.085789395191455))) / (((1.5349648090400123 * 3.5069630666812106) / (-9.582999058825745 / 1.5392082826801534)) * ((-9.95851503811933 / x5) - (3.474009677882446 + -0.7016051153919811)))))) + ((((((x0 - -1.2393724364187264) - (x8 / -0.12228430652594113)) / ((x9 + -8.111352746912292) / (x5 + 1.4005665428187548))) / (((x11 - -0.7077350020279418) + (6.930126782464001 - x10)) * ((x2 - 8.483445658520289) - (-4.259127278560213 / 4.400869877230436)))) + ((((-7.271601951502089 / 8.234395760576863) / (6.206816747585776 * 8.16056579337397)) / ((x4 - 4.612754541590521) - (x8 + x1))) * (((x4 * 1.07644400295767) - (x2 * x3)) * ((x6 / -9.57129080939994) / (x10 + -0.4929275111976281))))) * (((((-8.186952038462783 / x9) / (x8 / -6.53527185635022)) * ((x0 + -2.069137751425279) - (x6 / x3))) + (((3.499162897086041 + x10) + (x0 - x6)) - ((x10 / x5) * (x6 + -2.99148021617105)))) - ((((x6 + 4.942156820482264) / (x2 * 4.146243435451439)) + ((x6 + x6) / (x3 * x1))) + (((x1 / -5.187719862867237) * (-2.458941270694204 - -0.35650464985160824)) / ((x7 + 0.49510565248610305) / (x0 / x3)))))))'"
      ]
     },
     "execution_count": 15,
     "metadata": {},
     "output_type": "execute_result"
    }
   ],
   "source": [
    "def tree_to_string(node):\n",
    "    if node.is_leaf():\n",
    "        return str(node.value)\n",
    "    else:\n",
    "        left_str = tree_to_string(node.left)\n",
    "        right_str = tree_to_string(node.right)\n",
    "        return f'({left_str} {node.value} {right_str})'\n",
    "\n",
    "tree_to_string(tree)"
   ]
  },
  {
   "cell_type": "markdown",
   "metadata": {},
   "source": [
    "### Modelagem da população"
   ]
  },
  {
   "cell_type": "code",
   "execution_count": 16,
   "metadata": {},
   "outputs": [],
   "source": [
    "def initialize_population_ramped_half_and_half(pop_size:int, min_depth:int, max_depth:int, terminals:list, variables:list) -> list:\n",
    "\n",
    "    population = []\n",
    "    num_depths = max_depth - min_depth + 1\n",
    "    individuals_per_depth = pop_size // num_depths\n",
    "    remaining = pop_size % num_depths\n",
    "    \n",
    "    for depth in range(min_depth, max_depth + 1):\n",
    "        num_individuals = individuals_per_depth\n",
    "        if remaining > 0:\n",
    "            num_individuals += 1\n",
    "            remaining -= 1\n",
    "\n",
    "        half_full = num_individuals // 2\n",
    "        half_grow = num_individuals - half_full\n",
    "\n",
    "        for _ in range(half_full):\n",
    "            tree = generate_random_tree(max_depth=depth, terminals=terminals, variables=variables, method='full')\n",
    "            population.append(tree)\n",
    "\n",
    "        for _ in range(half_grow):\n",
    "            tree = generate_random_tree(max_depth=depth, terminals=terminals, variables=variables, method='grow')\n",
    "            population.append(tree)\n",
    "\n",
    "    return population"
   ]
  },
  {
   "cell_type": "code",
   "execution_count": 17,
   "metadata": {},
   "outputs": [
    {
     "name": "stdout",
     "output_type": "stream",
     "text": [
      "Tamanho da população inicial: 50\n"
     ]
    }
   ],
   "source": [
    "pop_size = 50\n",
    "\n",
    "population = initialize_population_ramped_half_and_half(pop_size, 1,TAMANHO_MAXIMO_INDIVIDUO, TERMINAIS, variables)\n",
    "\n",
    "print(f'Tamanho da população inicial: {len(population)}')"
   ]
  },
  {
   "cell_type": "markdown",
   "metadata": {},
   "source": [
    "# Fitness"
   ]
  },
  {
   "cell_type": "code",
   "execution_count": 18,
   "metadata": {},
   "outputs": [],
   "source": [
    "def evaluate_tree(node, example1, example2):\n",
    "    if node.is_leaf():\n",
    "        if isinstance(node.value, str):\n",
    "            return example1[node.value] - example2[node.value]\n",
    "        else:\n",
    "            return float(node.value)\n",
    "    else:\n",
    "        func = node.operators[node.value]\n",
    "        if func is None:\n",
    "            raise ValueError(f\"Operador desconhecido: {node.value}\")\n",
    "        left_val = evaluate_tree(node.left, example1, example2)\n",
    "        right_val = evaluate_tree(node.right, example1, example2)\n",
    "        return func(left_val, right_val)"
   ]
  },
  {
   "cell_type": "code",
   "execution_count": 19,
   "metadata": {},
   "outputs": [],
   "source": [
    "def compute_distance_matrix(tree, X):\n",
    "    num_examples = X.shape[0]\n",
    "    distance_matrix = np.zeros((num_examples, num_examples))\n",
    "    \n",
    "    if not isinstance(X, pd.DataFrame):\n",
    "        X = pd.DataFrame(X, columns=[f'x{i}' for i in range(X.shape[1])])\n",
    "    \n",
    "    for i in range(num_examples):\n",
    "        for j in range(i + 1, num_examples):\n",
    "            example1 = X.iloc[i].to_dict()\n",
    "            example2 = X.iloc[j].to_dict()\n",
    "            dist = evaluate_tree(tree, example1, example2)\n",
    "            # Usar valor absoluto para garantir que a distância seja não negativa\n",
    "            distance_matrix[i, j] = abs(dist)\n",
    "            distance_matrix[j, i] = distance_matrix[i, j]  # Matriz simétrica\n",
    "    return distance_matrix"
   ]
  },
  {
   "cell_type": "code",
   "execution_count": 20,
   "metadata": {},
   "outputs": [],
   "source": [
    "def evaluate_fitness(individual, X, y_true):\n",
    "    distance_matrix = compute_distance_matrix(individual, X)\n",
    "    \n",
    "    num_clusters = len(np.unique(y_true))\n",
    "    \n",
    "    clustering = AgglomerativeClustering(n_clusters=num_clusters, metric='precomputed', linkage='average')\n",
    "    clustering.fit(distance_matrix)\n",
    "    \n",
    "    y_pred = clustering.labels_\n",
    "    \n",
    "    fitness = v_measure_score(y_true, y_pred)\n",
    "    \n",
    "    return fitness"
   ]
  },
  {
   "cell_type": "code",
   "execution_count": null,
   "metadata": {},
   "outputs": [],
   "source": [
    "def calculate_fitness_population(population, X, y_true):\n",
    "    fitness_scores = []\n",
    "    for individual in tqdm(population, total=len(population), desc='Calculating fitness'):\n",
    "        fitness = evaluate_fitness(individual, wine_train_data_normalized, wine_train_labels)\n",
    "        fitness_scores.append(fitness)\n",
    "    return fitness_scores"
   ]
  },
  {
   "cell_type": "code",
   "execution_count": 22,
   "metadata": {},
   "outputs": [
    {
     "data": {
      "text/plain": [
       "np.float64(0.010730045131562555)"
      ]
     },
     "execution_count": 22,
     "metadata": {},
     "output_type": "execute_result"
    }
   ],
   "source": [
    "evaluate_fitness(population[0], wine_train_data_normalized, wine_train_labels)"
   ]
  }
 ],
 "metadata": {
  "kernelspec": {
   "display_name": ".venv",
   "language": "python",
   "name": "python3"
  },
  "language_info": {
   "codemirror_mode": {
    "name": "ipython",
    "version": 3
   },
   "file_extension": ".py",
   "mimetype": "text/x-python",
   "name": "python",
   "nbconvert_exporter": "python",
   "pygments_lexer": "ipython3",
   "version": "3.12.3"
  }
 },
 "nbformat": 4,
 "nbformat_minor": 2
}

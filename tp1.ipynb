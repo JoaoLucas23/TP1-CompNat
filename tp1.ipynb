{
 "cells": [
  {
   "cell_type": "code",
   "execution_count": 1,
   "metadata": {},
   "outputs": [],
   "source": [
    "# importando as bibliotecas\n",
    "import numpy as np\n",
    "import pandas as pd\n",
    "import random\n",
    "from tqdm.auto import tqdm\n",
    "from sklearn.preprocessing import StandardScaler\n",
    "from sklearn.cluster import AgglomerativeClustering\n",
    "from sklearn.metrics import v_measure_score"
   ]
  },
  {
   "cell_type": "code",
   "execution_count": 2,
   "metadata": {},
   "outputs": [],
   "source": [
    "# importando os modulos definidos\n",
    "from src.Node import Node"
   ]
  },
  {
   "cell_type": "markdown",
   "metadata": {},
   "source": [
    "# Carregamento de dados"
   ]
  },
  {
   "cell_type": "code",
   "execution_count": 3,
   "metadata": {},
   "outputs": [],
   "source": [
    "def load_dataset(dataset_name, header=None):\n",
    "    train_path = f'./data/{dataset_name}train.csv'\n",
    "    test_path = f'./data/{dataset_name}test.csv'\n",
    "\n",
    "    train_data = pd.read_csv(filepath_or_buffer=train_path, header=header)\n",
    "    test_data = pd.read_csv(filepath_or_buffer=test_path, header=header)\n",
    "    \n",
    "    return train_data, test_data"
   ]
  },
  {
   "cell_type": "code",
   "execution_count": 4,
   "metadata": {},
   "outputs": [
    {
     "name": "stdout",
     "output_type": "stream",
     "text": [
      "(92, 10) (24, 10)\n"
     ]
    }
   ],
   "source": [
    "breast_cancer_train_data, breast_cancer_test_data = load_dataset('breast_cancer_coimbra_', header=0)\n",
    "print(breast_cancer_train_data.shape, breast_cancer_test_data.shape)"
   ]
  },
  {
   "cell_type": "code",
   "execution_count": 5,
   "metadata": {},
   "outputs": [
    {
     "data": {
      "text/html": [
       "<div>\n",
       "<style scoped>\n",
       "    .dataframe tbody tr th:only-of-type {\n",
       "        vertical-align: middle;\n",
       "    }\n",
       "\n",
       "    .dataframe tbody tr th {\n",
       "        vertical-align: top;\n",
       "    }\n",
       "\n",
       "    .dataframe thead th {\n",
       "        text-align: right;\n",
       "    }\n",
       "</style>\n",
       "<table border=\"1\" class=\"dataframe\">\n",
       "  <thead>\n",
       "    <tr style=\"text-align: right;\">\n",
       "      <th></th>\n",
       "      <th>Age</th>\n",
       "      <th>BMI</th>\n",
       "      <th>Glucose</th>\n",
       "      <th>Insulin</th>\n",
       "      <th>HOMA</th>\n",
       "      <th>Leptin</th>\n",
       "      <th>Adiponectin</th>\n",
       "      <th>Resistin</th>\n",
       "      <th>MCP.1</th>\n",
       "      <th>Classification</th>\n",
       "    </tr>\n",
       "  </thead>\n",
       "  <tbody>\n",
       "    <tr>\n",
       "      <th>0</th>\n",
       "      <td>44</td>\n",
       "      <td>20.760000</td>\n",
       "      <td>86</td>\n",
       "      <td>7.553</td>\n",
       "      <td>1.600000</td>\n",
       "      <td>14.0900</td>\n",
       "      <td>20.320000</td>\n",
       "      <td>7.64000</td>\n",
       "      <td>63.610</td>\n",
       "      <td>1</td>\n",
       "    </tr>\n",
       "    <tr>\n",
       "      <th>1</th>\n",
       "      <td>46</td>\n",
       "      <td>20.830000</td>\n",
       "      <td>88</td>\n",
       "      <td>3.420</td>\n",
       "      <td>0.742368</td>\n",
       "      <td>12.8700</td>\n",
       "      <td>18.550000</td>\n",
       "      <td>13.56000</td>\n",
       "      <td>301.210</td>\n",
       "      <td>2</td>\n",
       "    </tr>\n",
       "    <tr>\n",
       "      <th>2</th>\n",
       "      <td>53</td>\n",
       "      <td>36.790166</td>\n",
       "      <td>101</td>\n",
       "      <td>10.175</td>\n",
       "      <td>2.534932</td>\n",
       "      <td>27.1841</td>\n",
       "      <td>20.030000</td>\n",
       "      <td>10.26309</td>\n",
       "      <td>695.754</td>\n",
       "      <td>1</td>\n",
       "    </tr>\n",
       "    <tr>\n",
       "      <th>3</th>\n",
       "      <td>54</td>\n",
       "      <td>30.483158</td>\n",
       "      <td>90</td>\n",
       "      <td>5.537</td>\n",
       "      <td>1.229214</td>\n",
       "      <td>12.3310</td>\n",
       "      <td>9.731380</td>\n",
       "      <td>10.19299</td>\n",
       "      <td>1227.910</td>\n",
       "      <td>1</td>\n",
       "    </tr>\n",
       "    <tr>\n",
       "      <th>4</th>\n",
       "      <td>34</td>\n",
       "      <td>24.242424</td>\n",
       "      <td>92</td>\n",
       "      <td>21.699</td>\n",
       "      <td>4.924226</td>\n",
       "      <td>16.7353</td>\n",
       "      <td>21.823745</td>\n",
       "      <td>12.06534</td>\n",
       "      <td>481.949</td>\n",
       "      <td>2</td>\n",
       "    </tr>\n",
       "  </tbody>\n",
       "</table>\n",
       "</div>"
      ],
      "text/plain": [
       "   Age        BMI  Glucose  Insulin      HOMA   Leptin  Adiponectin  Resistin  \\\n",
       "0   44  20.760000       86    7.553  1.600000  14.0900    20.320000   7.64000   \n",
       "1   46  20.830000       88    3.420  0.742368  12.8700    18.550000  13.56000   \n",
       "2   53  36.790166      101   10.175  2.534932  27.1841    20.030000  10.26309   \n",
       "3   54  30.483158       90    5.537  1.229214  12.3310     9.731380  10.19299   \n",
       "4   34  24.242424       92   21.699  4.924226  16.7353    21.823745  12.06534   \n",
       "\n",
       "      MCP.1  Classification  \n",
       "0    63.610               1  \n",
       "1   301.210               2  \n",
       "2   695.754               1  \n",
       "3  1227.910               1  \n",
       "4   481.949               2  "
      ]
     },
     "execution_count": 5,
     "metadata": {},
     "output_type": "execute_result"
    }
   ],
   "source": [
    "breast_cancer_train_data.head()"
   ]
  },
  {
   "cell_type": "markdown",
   "metadata": {},
   "source": [
    "* 0 - fixed acidity (tartaric acid - g / dm^3)\n",
    "* 1 - volatile acidity (acetic acid - g / dm^3)\n",
    "* 2 - citric acid (g / dm^3)\n",
    "* 3 - residual sugar (g / dm^3)\n",
    "* 4 - chlorides (sodium chloride - g / dm^3)\n",
    "* 5 - free sulfur dioxide (mg / dm^3)\n",
    "* 6 - total sulfur dioxide (mg / dm^3)\n",
    "* 7 - density (g / cm^3)\n",
    "* 8 - pH\n",
    "* 9 - sulphates (potassium sulphate - g / dm3)\n",
    "* 10 - alcohol (% by volume)\n",
    "* 11 - quality (score between 0 and 10) - output variable"
   ]
  },
  {
   "cell_type": "code",
   "execution_count": 6,
   "metadata": {},
   "outputs": [
    {
     "name": "stdout",
     "output_type": "stream",
     "text": [
      "(1279, 12) (320, 12)\n"
     ]
    }
   ],
   "source": [
    "wine_train_data, wine_test_data = load_dataset('wineRed-', header=None)\n",
    "print(wine_train_data.shape, wine_test_data.shape)"
   ]
  },
  {
   "cell_type": "code",
   "execution_count": 7,
   "metadata": {},
   "outputs": [
    {
     "data": {
      "text/html": [
       "<div>\n",
       "<style scoped>\n",
       "    .dataframe tbody tr th:only-of-type {\n",
       "        vertical-align: middle;\n",
       "    }\n",
       "\n",
       "    .dataframe tbody tr th {\n",
       "        vertical-align: top;\n",
       "    }\n",
       "\n",
       "    .dataframe thead th {\n",
       "        text-align: right;\n",
       "    }\n",
       "</style>\n",
       "<table border=\"1\" class=\"dataframe\">\n",
       "  <thead>\n",
       "    <tr style=\"text-align: right;\">\n",
       "      <th></th>\n",
       "      <th>0</th>\n",
       "      <th>1</th>\n",
       "      <th>2</th>\n",
       "      <th>3</th>\n",
       "      <th>4</th>\n",
       "      <th>5</th>\n",
       "      <th>6</th>\n",
       "      <th>7</th>\n",
       "      <th>8</th>\n",
       "      <th>9</th>\n",
       "      <th>10</th>\n",
       "      <th>11</th>\n",
       "    </tr>\n",
       "  </thead>\n",
       "  <tbody>\n",
       "    <tr>\n",
       "      <th>0</th>\n",
       "      <td>7.4</td>\n",
       "      <td>0.640</td>\n",
       "      <td>0.17</td>\n",
       "      <td>5.40</td>\n",
       "      <td>0.168</td>\n",
       "      <td>52.0</td>\n",
       "      <td>98.0</td>\n",
       "      <td>0.99736</td>\n",
       "      <td>3.28</td>\n",
       "      <td>0.50</td>\n",
       "      <td>9.5</td>\n",
       "      <td>5</td>\n",
       "    </tr>\n",
       "    <tr>\n",
       "      <th>1</th>\n",
       "      <td>10.4</td>\n",
       "      <td>0.440</td>\n",
       "      <td>0.73</td>\n",
       "      <td>6.55</td>\n",
       "      <td>0.074</td>\n",
       "      <td>38.0</td>\n",
       "      <td>76.0</td>\n",
       "      <td>0.99900</td>\n",
       "      <td>3.17</td>\n",
       "      <td>0.85</td>\n",
       "      <td>12.0</td>\n",
       "      <td>7</td>\n",
       "    </tr>\n",
       "    <tr>\n",
       "      <th>2</th>\n",
       "      <td>10.7</td>\n",
       "      <td>0.430</td>\n",
       "      <td>0.39</td>\n",
       "      <td>2.20</td>\n",
       "      <td>0.106</td>\n",
       "      <td>8.0</td>\n",
       "      <td>32.0</td>\n",
       "      <td>0.99860</td>\n",
       "      <td>2.89</td>\n",
       "      <td>0.50</td>\n",
       "      <td>9.6</td>\n",
       "      <td>5</td>\n",
       "    </tr>\n",
       "    <tr>\n",
       "      <th>3</th>\n",
       "      <td>8.9</td>\n",
       "      <td>0.635</td>\n",
       "      <td>0.37</td>\n",
       "      <td>1.70</td>\n",
       "      <td>0.263</td>\n",
       "      <td>5.0</td>\n",
       "      <td>62.0</td>\n",
       "      <td>0.99710</td>\n",
       "      <td>3.00</td>\n",
       "      <td>1.09</td>\n",
       "      <td>9.3</td>\n",
       "      <td>5</td>\n",
       "    </tr>\n",
       "    <tr>\n",
       "      <th>4</th>\n",
       "      <td>7.8</td>\n",
       "      <td>0.570</td>\n",
       "      <td>0.09</td>\n",
       "      <td>2.30</td>\n",
       "      <td>0.065</td>\n",
       "      <td>34.0</td>\n",
       "      <td>45.0</td>\n",
       "      <td>0.99417</td>\n",
       "      <td>3.46</td>\n",
       "      <td>0.74</td>\n",
       "      <td>12.7</td>\n",
       "      <td>8</td>\n",
       "    </tr>\n",
       "  </tbody>\n",
       "</table>\n",
       "</div>"
      ],
      "text/plain": [
       "     0      1     2     3      4     5     6        7     8     9     10  11\n",
       "0   7.4  0.640  0.17  5.40  0.168  52.0  98.0  0.99736  3.28  0.50   9.5   5\n",
       "1  10.4  0.440  0.73  6.55  0.074  38.0  76.0  0.99900  3.17  0.85  12.0   7\n",
       "2  10.7  0.430  0.39  2.20  0.106   8.0  32.0  0.99860  2.89  0.50   9.6   5\n",
       "3   8.9  0.635  0.37  1.70  0.263   5.0  62.0  0.99710  3.00  1.09   9.3   5\n",
       "4   7.8  0.570  0.09  2.30  0.065  34.0  45.0  0.99417  3.46  0.74  12.7   8"
      ]
     },
     "execution_count": 7,
     "metadata": {},
     "output_type": "execute_result"
    }
   ],
   "source": [
    "wine_train_data.head()"
   ]
  },
  {
   "cell_type": "code",
   "execution_count": 8,
   "metadata": {},
   "outputs": [],
   "source": [
    "wine_train_data = wine_train_data[:-1]\n",
    "wine_train_labels = wine_train_data.iloc[:, -1]\n",
    "\n",
    "wine_test_data = wine_test_data[:-1]\n",
    "wine_test_labels = wine_test_data.iloc[:, -1]"
   ]
  },
  {
   "cell_type": "markdown",
   "metadata": {},
   "source": [
    "### Transformação de dados"
   ]
  },
  {
   "cell_type": "code",
   "execution_count": 9,
   "metadata": {},
   "outputs": [],
   "source": [
    "def normalize(train_data, test_data):\n",
    "    scaler = StandardScaler()\n",
    "    scaler.fit(train_data)\n",
    "    return scaler.transform(train_data), scaler.transform(test_data)"
   ]
  },
  {
   "cell_type": "code",
   "execution_count": 10,
   "metadata": {},
   "outputs": [
    {
     "data": {
      "text/plain": [
       "array([[-0.5388674 ,  0.64743164, -0.528528  , ..., -0.92014031,\n",
       "        -0.85311605, -0.78179359],\n",
       "       [ 1.19074131, -0.48022442,  2.33770613, ...,  1.08316347,\n",
       "         1.50847219,  1.69744267],\n",
       "       [ 1.36370218, -0.53660723,  0.59749255, ..., -0.92014031,\n",
       "        -0.75865252, -0.78179359],\n",
       "       ...,\n",
       "       [ 0.61420507, -0.64937283,  1.05813732, ...,  0.73973996,\n",
       "         1.69739925,  1.69744267],\n",
       "       [-0.82713551,  0.08360361, -1.19390378, ...,  1.42658697,\n",
       "        -0.94757958,  0.45782454],\n",
       "       [ 0.32593696,  0.47828323,  1.10932007, ...,  2.05619674,\n",
       "        -1.04204311, -0.78179359]])"
      ]
     },
     "execution_count": 10,
     "metadata": {},
     "output_type": "execute_result"
    }
   ],
   "source": [
    "wine_train_data_normalized,wine_test_data_normalized = normalize(wine_train_data,wine_test_data)\n",
    "wine_train_data_normalized"
   ]
  },
  {
   "cell_type": "markdown",
   "metadata": {},
   "source": [
    "# Modelagem dos indivíduos"
   ]
  },
  {
   "cell_type": "code",
   "execution_count": 11,
   "metadata": {},
   "outputs": [],
   "source": [
    "TAMANHO_MAXIMO_INDIVIDUO = 7\n",
    "TERMINAIS = ['+', '-', '*', '/']"
   ]
  },
  {
   "cell_type": "code",
   "execution_count": 12,
   "metadata": {},
   "outputs": [],
   "source": [
    "def generate_random_tree(max_depth: int, terminals: list, variables:list, method:str='grow') -> Node:\n",
    "    if max_depth == 0:\n",
    "        value = random.choice(variables)\n",
    "        return Node(value)\n",
    "    \n",
    "    if method == 'full':\n",
    "        # Sempre gera operadores até a profundidade máxima\n",
    "        op = random.choice(terminals)\n",
    "        left_subtree = generate_random_tree(max_depth - 1, terminals, variables, method='full')\n",
    "        right_subtree = generate_random_tree(max_depth - 1, terminals, variables, method='full')\n",
    "        return Node(op, left_subtree, right_subtree)\n",
    "    \n",
    "    elif method == 'grow':\n",
    "        # Decide aleatoriamente entre operador e folha\n",
    "        if random.random() < 0.5:\n",
    "            # Gera operador\n",
    "            op = random.choice(terminals)\n",
    "            left_subtree = generate_random_tree(max_depth - 1, terminals, variables, method='grow')\n",
    "            right_subtree = generate_random_tree(max_depth - 1, terminals, variables, method='grow')\n",
    "            return Node(op, left_subtree, right_subtree)\n",
    "        else:\n",
    "            value = random.choice(variables)\n",
    "            return Node(value)"
   ]
  },
  {
   "cell_type": "code",
   "execution_count": 13,
   "metadata": {},
   "outputs": [],
   "source": [
    "variables = [f'x{i}' for i in range(wine_train_data_normalized.shape[1])]\n",
    "\n",
    "# Gerando uma árvore aleatória\n",
    "tree1 = generate_random_tree(max_depth=TAMANHO_MAXIMO_INDIVIDUO, terminals=TERMINAIS, variables=variables, method='full')\n",
    "tree2 = generate_random_tree(max_depth=TAMANHO_MAXIMO_INDIVIDUO, terminals=TERMINAIS, variables=variables, method='full')"
   ]
  },
  {
   "cell_type": "code",
   "execution_count": 14,
   "metadata": {},
   "outputs": [
    {
     "data": {
      "text/plain": [
       "'(((((((x5 / x1) + (x1 + x2)) + ((x10 * x10) - (x7 - x11))) / (((x2 / x5) + (x7 + x2)) + ((x4 - x11) / (x0 - x8)))) * ((((x2 * x9) - (x10 - x9)) * ((x8 * x1) * (x10 * x11))) * (((x7 / x10) - (x2 - x11)) / ((x10 - x1) + (x11 + x7))))) - (((((x1 - x2) - (x9 + x9)) / ((x2 / x9) * (x7 - x5))) + (((x9 * x0) / (x6 * x3)) - ((x3 / x3) - (x0 / x0)))) + ((((x6 - x9) + (x7 / x3)) + ((x7 * x7) - (x6 * x1))) / (((x0 + x9) - (x6 * x3)) * ((x11 * x6) - (x1 / x8)))))) + ((((((x4 * x2) + (x6 - x3)) * ((x3 * x2) / (x5 - x8))) / (((x10 + x7) * (x11 + x6)) - ((x5 / x9) - (x1 + x5)))) * ((((x9 - x8) * (x0 - x7)) * ((x3 / x3) - (x0 - x6))) - (((x7 * x10) - (x7 - x4)) - ((x2 + x2) + (x7 + x10))))) + (((((x7 / x2) / (x3 - x10)) + ((x6 - x5) - (x6 * x2))) / (((x7 / x1) / (x8 / x11)) * ((x1 - x3) / (x2 - x9)))) - ((((x1 * x10) - (x9 - x11)) - ((x11 * x7) * (x11 * x11))) + (((x7 - x4) / (x3 + x6)) * ((x10 - x11) + (x7 / x2)))))))'"
      ]
     },
     "execution_count": 14,
     "metadata": {},
     "output_type": "execute_result"
    }
   ],
   "source": [
    "tree1.view()"
   ]
  },
  {
   "cell_type": "markdown",
   "metadata": {},
   "source": [
    "### Modelagem da população"
   ]
  },
  {
   "cell_type": "code",
   "execution_count": 15,
   "metadata": {},
   "outputs": [],
   "source": [
    "def initialize_population_ramped_half_and_half(pop_size:int, min_depth:int, max_depth:int, terminals:list, variables:list) -> list:\n",
    "\n",
    "    population = []\n",
    "    num_depths = max_depth - min_depth + 1\n",
    "    individuals_per_depth = pop_size // num_depths\n",
    "    remaining = pop_size % num_depths\n",
    "    \n",
    "    for depth in range(min_depth, max_depth + 1):\n",
    "        num_individuals = individuals_per_depth\n",
    "        if remaining > 0:\n",
    "            num_individuals += 1\n",
    "            remaining -= 1\n",
    "\n",
    "        half_full = num_individuals // 2\n",
    "        half_grow = num_individuals - half_full\n",
    "\n",
    "        for _ in range(half_full):\n",
    "            tree = generate_random_tree(max_depth=depth, terminals=terminals, variables=variables, method='full')\n",
    "            population.append(tree)\n",
    "\n",
    "        for _ in range(half_grow):\n",
    "            tree = generate_random_tree(max_depth=depth, terminals=terminals, variables=variables, method='grow')\n",
    "            population.append(tree)\n",
    "\n",
    "    return population"
   ]
  },
  {
   "cell_type": "code",
   "execution_count": 16,
   "metadata": {},
   "outputs": [
    {
     "name": "stdout",
     "output_type": "stream",
     "text": [
      "Tamanho da população inicial: 50\n"
     ]
    }
   ],
   "source": [
    "pop_size = 50\n",
    "\n",
    "population = initialize_population_ramped_half_and_half(pop_size, 1,TAMANHO_MAXIMO_INDIVIDUO, TERMINAIS, variables)\n",
    "\n",
    "print(f'Tamanho da população inicial: {len(population)}')"
   ]
  },
  {
   "cell_type": "markdown",
   "metadata": {},
   "source": [
    "# Fitness"
   ]
  },
  {
   "cell_type": "code",
   "execution_count": 17,
   "metadata": {},
   "outputs": [],
   "source": [
    "def evaluate_tree(node, example1, example2):\n",
    "    if node.is_leaf():\n",
    "        if isinstance(node.value, str):\n",
    "            return example1[node.value] - example2[node.value]\n",
    "        else:\n",
    "            return float(node.value)\n",
    "    else:\n",
    "        func = node.operators[node.value]\n",
    "        if func is None:\n",
    "            raise ValueError(f\"Operador desconhecido: {node.value}\")\n",
    "        left_val = evaluate_tree(node.left, example1, example2)\n",
    "        right_val = evaluate_tree(node.right, example1, example2)\n",
    "        return func(left_val, right_val)"
   ]
  },
  {
   "cell_type": "code",
   "execution_count": 18,
   "metadata": {},
   "outputs": [],
   "source": [
    "def compute_distance_matrix(tree, X):\n",
    "    num_examples = X.shape[0]\n",
    "    distance_matrix = np.zeros((num_examples, num_examples))\n",
    "    \n",
    "    if not isinstance(X, pd.DataFrame):\n",
    "        X = pd.DataFrame(X, columns=[f'x{i}' for i in range(X.shape[1])])\n",
    "    \n",
    "    for i in range(num_examples):\n",
    "        for j in range(i + 1, num_examples):\n",
    "            example1 = X.iloc[i].to_dict()\n",
    "            example2 = X.iloc[j].to_dict()\n",
    "            dist = evaluate_tree(tree, example1, example2)\n",
    "            # Usar valor absoluto para garantir que a distância seja não negativa\n",
    "            distance_matrix[i, j] = abs(dist)\n",
    "            distance_matrix[j, i] = distance_matrix[i, j]  # Matriz simétrica\n",
    "    return distance_matrix"
   ]
  },
  {
   "cell_type": "code",
   "execution_count": 19,
   "metadata": {},
   "outputs": [],
   "source": [
    "def evaluate_fitness(individual, X, y_true):\n",
    "    distance_matrix = compute_distance_matrix(individual, X)\n",
    "    \n",
    "    num_clusters = len(np.unique(y_true))\n",
    "    \n",
    "    clustering = AgglomerativeClustering(n_clusters=num_clusters, metric='precomputed', linkage='average')\n",
    "    clustering.fit(distance_matrix)\n",
    "    \n",
    "    y_pred = clustering.labels_\n",
    "    \n",
    "    fitness = v_measure_score(y_true, y_pred)\n",
    "    \n",
    "    return fitness"
   ]
  },
  {
   "cell_type": "code",
   "execution_count": 20,
   "metadata": {},
   "outputs": [],
   "source": [
    "def calculate_fitness_population(population, X, y_true):\n",
    "    fitness_scores = []\n",
    "    for individual in tqdm(population, total=len(population), desc='Calculating fitness'):\n",
    "        fitness = evaluate_fitness(individual, X, y_true)\n",
    "        fitness_scores.append(fitness)\n",
    "    return fitness_scores"
   ]
  },
  {
   "cell_type": "code",
   "execution_count": 21,
   "metadata": {},
   "outputs": [
    {
     "data": {
      "text/plain": [
       "np.float64(0.02311476093443069)"
      ]
     },
     "execution_count": 21,
     "metadata": {},
     "output_type": "execute_result"
    }
   ],
   "source": [
    "evaluate_fitness(population[0], wine_train_data_normalized, wine_train_labels)"
   ]
  },
  {
   "cell_type": "code",
   "execution_count": 22,
   "metadata": {},
   "outputs": [],
   "source": [
    "#fitness_scores = calculate_fitness_population(population, wine_train_data_normalized, wine_train_labels)"
   ]
  },
  {
   "cell_type": "markdown",
   "metadata": {},
   "source": [
    "# Operadores"
   ]
  },
  {
   "cell_type": "code",
   "execution_count": 23,
   "metadata": {},
   "outputs": [],
   "source": [
    "def crossover(parent1: Node, parent2: Node, method: str='') -> tuple:\n",
    "    # Faz uma cópia profunda dos pais para não modificar os originais\n",
    "    child1 = parent1\n",
    "    child2 = parent2\n",
    "    \n",
    "    # Obter todos os nós das árvores\n",
    "    nodes1 = child1.get_all_nodes()\n",
    "    nodes2 = child2.get_all_nodes()\n",
    "    \n",
    "    # Selecionar nós aleatórios para troca\n",
    "    crossover_point1 = random.choice(nodes1)\n",
    "    crossover_point2 = random.choice(nodes2)\n",
    "    \n",
    "    # Realizar o crossover\n",
    "    crossover_point1.value, crossover_point2.value = crossover_point2.value, crossover_point1.value\n",
    "    crossover_point1.left, crossover_point2.left = crossover_point2.left, crossover_point1.left\n",
    "    crossover_point1.right, crossover_point2.right = crossover_point2.right, crossover_point1.right\n",
    "    \n",
    "    return child1, child2"
   ]
  },
  {
   "cell_type": "code",
   "execution_count": 24,
   "metadata": {},
   "outputs": [
    {
     "name": "stdout",
     "output_type": "stream",
     "text": [
      "(((((((x5 / x1) + (x1 + x2)) + (x6 - (x7 - x11))) / (((x2 / x5) + (x7 + x2)) + ((x4 - x11) / (x0 - x8)))) * ((((x2 * x9) - (x10 - x9)) * ((x8 * x1) * (x10 * x11))) * (((x7 / x10) - (x2 - x11)) / ((x10 - x1) + (x11 + x7))))) - (((((x1 - x2) - (x9 + x9)) / ((x2 / x9) * (x7 - x5))) + (((x9 * x0) / (x6 * x3)) - ((x3 / x3) - (x0 / x0)))) + ((((x6 - x9) + (x7 / x3)) + ((x7 * x7) - (x6 * x1))) / (((x0 + x9) - (x6 * x3)) * ((x11 * x6) - (x1 / x8)))))) + ((((((x4 * x2) + (x6 - x3)) * ((x3 * x2) / (x5 - x8))) / (((x10 + x7) * (x11 + x6)) - ((x5 / x9) - (x1 + x5)))) * ((((x9 - x8) * (x0 - x7)) * ((x3 / x3) - (x0 - x6))) - (((x7 * x10) - (x7 - x4)) - ((x2 + x2) + (x7 + x10))))) + (((((x7 / x2) / (x3 - x10)) + ((x6 - x5) - (x6 * x2))) / (((x7 / x1) / (x8 / x11)) * ((x1 - x3) / (x2 - x9)))) - ((((x1 * x10) - (x9 - x11)) - ((x11 * x7) * (x11 * x11))) + (((x7 - x4) / (x3 + x6)) * ((x10 - x11) + (x7 / x2))))))) (((((((x11 / x1) * (x4 + x9)) / ((x4 * x4) / (x7 + x5))) / (((x10 - x5) + (x5 - x6)) / ((x8 / x1) + (x9 - x5)))) / ((((x6 * x10) / (x4 - x6)) - ((x9 / x10) - (x3 * x4))) - (((x7 / x0) / (x11 + x8)) + ((x10 + x9) / (x8 - x8))))) * (((((x0 + x2) / (x2 - x5)) - ((x8 / x9) + (x6 + x1))) - (((x6 * x11) / (x7 + x2)) / ((x11 * x5) * (x3 * x8)))) - ((((x6 / x7) - (x9 + x0)) + ((x8 - x5) + (x9 + x0))) / (((x5 / x9) / (x1 - x8)) + ((x4 / x0) * (x9 * x4)))))) + ((((((x3 / x4) * (x9 - x0)) * ((x2 - x3) - (x4 - x4))) / (((x3 - x5) / (x10 / x8)) / ((x5 * x7) / (x6 + x0)))) - ((((x6 - x11) - (x3 * x5)) + ((x8 * x5) / (x6 * x0))) * (((x3 * x8) * (x5 + x5)) + ((x6 * x8) * (x1 - x1))))) * (((((x7 + x6) - (x6 * x3)) * ((x5 - x1) - (x9 * x5))) * (((x9 + x0) + (x3 / x10)) + ((x4 * x5) + (x1 * x7)))) - (((((x10 * x10) / x8) * (x5 / x8)) / ((x5 / x10) * (x2 - x5))) + (((x9 * x7) + (x6 - x7)) + ((x1 + x1) / (x7 + x8)))))))\n",
      "(((((((x5 / x1) + (x1 + x2)) + (x6 - (x7 - x11))) / (((x2 / x5) + (x7 + x2)) + ((x4 - x11) / (x0 - x8)))) * ((((x2 * x9) - (x10 - x9)) * ((x8 * x1) * (x10 * x11))) * (((x7 / x10) - (x2 - x11)) / ((x10 - x1) + (x11 + x7))))) - (((((x1 - x2) - (x9 + x9)) / ((x2 / x9) * (x7 - x5))) + (((x9 * x0) / (x6 * x3)) - ((x3 / x3) - (x0 / x0)))) + ((((x6 - x9) + (x7 / x3)) + ((x7 * x7) - (x6 * x1))) / (((x0 + x9) - (x6 * x3)) * ((x11 * x6) - (x1 / x8)))))) + ((((((x4 * x2) + (x6 - x3)) * ((x3 * x2) / (x5 - x8))) / (((x10 + x7) * (x11 + x6)) - ((x5 / x9) - (x1 + x5)))) * ((((x9 - x8) * (x0 - x7)) * ((x3 / x3) - (x0 - x6))) - (((x7 * x10) - (x7 - x4)) - ((x2 + x2) + (x7 + x10))))) + (((((x7 / x2) / (x3 - x10)) + ((x6 - x5) - (x6 * x2))) / (((x7 / x1) / (x8 / x11)) * ((x1 - x3) / (x2 - x9)))) - ((((x1 * x10) - (x9 - x11)) - ((x11 * x7) * (x11 * x11))) + (((x7 - x4) / (x3 + x6)) * ((x10 - x11) + (x7 / x2))))))) (((((((x11 / x1) * (x4 + x9)) / ((x4 * x4) / (x7 + x5))) / (((x10 - x5) + (x5 - x6)) / ((x8 / x1) + (x9 - x5)))) / ((((x6 * x10) / (x4 - x6)) - ((x9 / x10) - (x3 * x4))) - (((x7 / x0) / (x11 + x8)) + ((x10 + x9) / (x8 - x8))))) * (((((x0 + x2) / (x2 - x5)) - ((x8 / x9) + (x6 + x1))) - (((x6 * x11) / (x7 + x2)) / ((x11 * x5) * (x3 * x8)))) - ((((x6 / x7) - (x9 + x0)) + ((x8 - x5) + (x9 + x0))) / (((x5 / x9) / (x1 - x8)) + ((x4 / x0) * (x9 * x4)))))) + ((((((x3 / x4) * (x9 - x0)) * ((x2 - x3) - (x4 - x4))) / (((x3 - x5) / (x10 / x8)) / ((x5 * x7) / (x6 + x0)))) - ((((x6 - x11) - (x3 * x5)) + ((x8 * x5) / (x6 * x0))) * (((x3 * x8) * (x5 + x5)) + ((x6 * x8) * (x1 - x1))))) * (((((x7 + x6) - (x6 * x3)) * ((x5 - x1) - (x9 * x5))) * (((x9 + x0) + (x3 / x10)) + ((x4 * x5) + (x1 * x7)))) - (((((x10 * x10) / x8) * (x5 / x8)) / ((x5 / x10) * (x2 - x5))) + (((x9 * x7) + (x6 - x7)) + ((x1 + x1) / (x7 + x8)))))))\n"
     ]
    }
   ],
   "source": [
    "child1,child2 = crossover(tree1, tree2)\n",
    "\n",
    "print(tree1.view(), tree2.view())\n",
    "print(child1.view(), child2.view())"
   ]
  },
  {
   "cell_type": "code",
   "execution_count": null,
   "metadata": {},
   "outputs": [],
   "source": [
    "tree1.depth()"
   ]
  },
  {
   "cell_type": "code",
   "execution_count": null,
   "metadata": {},
   "outputs": [],
   "source": [
    "child1.depth()"
   ]
  },
  {
   "cell_type": "code",
   "execution_count": 25,
   "metadata": {},
   "outputs": [],
   "source": [
    "def mutate(individual, terminals, variables, max_depth, method):\n",
    "    mutant = individual\n",
    "    \n",
    "    # Obter todos os nós\n",
    "    nodes = mutant.get_all_nodes()\n",
    "    \n",
    "    # Selecionar um nó aleatório para mutação\n",
    "    mutation_point = random.choice(nodes)\n",
    "    \n",
    "    # Gerar uma nova subárvore\n",
    "    new_subtree = generate_random_tree(max_depth=max_depth, terminals=terminals, variables=variables, method=method)\n",
    "    \n",
    "    # Substituir a subárvore no ponto de mutação\n",
    "    mutation_point.value = new_subtree.value\n",
    "    mutation_point.left = new_subtree.left\n",
    "    mutation_point.right = new_subtree.right\n",
    "    \n",
    "    return mutant"
   ]
  },
  {
   "cell_type": "code",
   "execution_count": 26,
   "metadata": {},
   "outputs": [
    {
     "name": "stdout",
     "output_type": "stream",
     "text": [
      "(((((((x5 / x1) + (x1 + x2)) + (x6 - (x7 - x11))) / (((x2 / x5) + (x7 + x2)) + ((x4 - x11) / (x0 - x8)))) * ((((x2 * x9) - (x10 - x9)) * ((x8 * x1) * (x10 * x11))) * (((x7 / x10) - (x2 - x11)) / ((x10 - x1) + (x11 + x7))))) - (((((x1 - x2) - (x9 + x9)) / ((x2 / x9) * (x7 - x5))) + (((x9 * x0) / (x6 * x3)) - ((x3 / x3) - (x0 / x0)))) + ((((x6 - x9) + (x7 / x3)) + ((x7 * x7) - (x6 * x1))) / (((x0 + x9) - (x6 * x3)) * ((x11 * x6) - (x1 / x8)))))) + ((((((x4 * x2) + (x6 - x3)) * ((x3 * x2) / (x5 - x8))) / (((x10 + x7) * (x11 + x6)) - ((x5 / x9) - (x1 + x5)))) * ((((x9 - x8) * (x0 - x7)) * ((x3 / x3) - (x0 - x6))) - (((x7 * x10) - (x7 - x4)) - ((x2 + x2) + (x7 + x10))))) + (((((x7 / x2) / (x3 - x10)) + ((x6 - x5) - (x6 * x2))) / (((x7 / x1) / (x8 / x11)) * ((x1 - x3) / (x2 - x9)))) - ((((x1 * x10) - (x9 - x11)) - ((x11 * x7) * (x11 * x11))) + (((x7 - x4) / (x3 + x6)) * ((x10 - x11) + (x7 / x2)))))))\n"
     ]
    },
    {
     "data": {
      "text/plain": [
       "'(((((((x5 / x1) + (x1 + x2)) + (x6 - (x7 - x11))) / (((x2 / x5) + (x7 + x2)) + ((x4 - x11) / (x0 - x8)))) * ((((x2 * x9) - (x10 - x9)) * ((x8 * x1) * (x10 * x11))) * (((x7 / x10) - (x2 - x11)) / (((x1 - (x2 / (x3 + ((((x6 * x6) - x3) / x6) / ((x1 * x1) * x7))))) - x1) + (x11 + x7))))) - (((((x1 - x2) - (x9 + x9)) / ((x2 / x9) * (x7 - x5))) + (((x9 * x0) / (x6 * x3)) - ((x3 / x3) - (x0 / x0)))) + ((((x6 - x9) + (x7 / x3)) + ((x7 * x7) - (x6 * x1))) / (((x0 + x9) - (x6 * x3)) * ((x11 * x6) - (x1 / x8)))))) + ((((((x4 * x2) + (x6 - x3)) * ((x3 * x2) / (x5 - x8))) / (((x10 + x7) * (x11 + x6)) - ((x5 / x9) - (x1 + x5)))) * ((((x9 - x8) * (x0 - x7)) * ((x3 / x3) - (x0 - x6))) - (((x7 * x10) - (x7 - x4)) - ((x2 + x2) + (x7 + x10))))) + (((((x7 / x2) / (x3 - x10)) + ((x6 - x5) - (x6 * x2))) / (((x7 / x1) / (x8 / x11)) * ((x1 - x3) / (x2 - x9)))) - ((((x1 * x10) - (x9 - x11)) - ((x11 * x7) * (x11 * x11))) + (((x7 - x4) / (x3 + x6)) * ((x10 - x11) + (x7 / x2)))))))'"
      ]
     },
     "execution_count": 26,
     "metadata": {},
     "output_type": "execute_result"
    }
   ],
   "source": [
    "print(tree1.view())\n",
    "tree1 = mutate(tree1, TERMINAIS, variables, TAMANHO_MAXIMO_INDIVIDUO, method='grow')\n",
    "tree1.view()"
   ]
  },
  {
   "cell_type": "code",
   "execution_count": 28,
   "metadata": {},
   "outputs": [
    {
     "ename": "AttributeError",
     "evalue": "'Node' object has no attribute 'depth'",
     "output_type": "error",
     "traceback": [
      "\u001b[1;31m---------------------------------------------------------------------------\u001b[0m",
      "\u001b[1;31mAttributeError\u001b[0m                            Traceback (most recent call last)",
      "Cell \u001b[1;32mIn[28], line 1\u001b[0m\n\u001b[1;32m----> 1\u001b[0m \u001b[43mtree1\u001b[49m\u001b[38;5;241;43m.\u001b[39;49m\u001b[43mdepth\u001b[49m()\n",
      "\u001b[1;31mAttributeError\u001b[0m: 'Node' object has no attribute 'depth'"
     ]
    }
   ],
   "source": [
    "tree1.depth()"
   ]
  },
  {
   "cell_type": "code",
   "execution_count": 27,
   "metadata": {},
   "outputs": [],
   "source": [
    "def selection(population, fitness_scores, method, tournament_size=0):\n",
    "    if method == 'tournament':\n",
    "        selected = []\n",
    "        for _ in range(len(population)):\n",
    "            # Seleciona indivíduos aleatoriamente para o torneio\n",
    "            tournament = random.sample(list(zip(population, fitness_scores)), tournament_size)\n",
    "            # Seleciona o melhor do torneio\n",
    "            winner = max(tournament, key=lambda x: x[1])[0]\n",
    "            selected.append(winner)\n",
    "        return selected\n",
    "    \n",
    "    elif method == 'roulette':\n",
    "        total_fitness = sum(fitness_scores)\n",
    "        probabilities = [fitness / total_fitness for fitness in fitness_scores]\n",
    "        selected = np.random.choice(population, size=len(population), p=probabilities)\n",
    "        return selected"
   ]
  },
  {
   "cell_type": "code",
   "execution_count": null,
   "metadata": {},
   "outputs": [],
   "source": []
  },
  {
   "cell_type": "markdown",
   "metadata": {},
   "source": [
    "# Algoritmo GP"
   ]
  },
  {
   "cell_type": "markdown",
   "metadata": {},
   "source": []
  }
 ],
 "metadata": {
  "kernelspec": {
   "display_name": ".venv",
   "language": "python",
   "name": "python3"
  },
  "language_info": {
   "codemirror_mode": {
    "name": "ipython",
    "version": 3
   },
   "file_extension": ".py",
   "mimetype": "text/x-python",
   "name": "python",
   "nbconvert_exporter": "python",
   "pygments_lexer": "ipython3",
   "version": "3.12.3"
  }
 },
 "nbformat": 4,
 "nbformat_minor": 2
}

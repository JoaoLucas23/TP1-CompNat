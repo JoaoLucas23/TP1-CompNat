{
 "cells": [
  {
   "cell_type": "code",
   "execution_count": 11,
   "metadata": {},
   "outputs": [],
   "source": [
    "# importando as bibliotecas\n",
    "import numpy as np\n",
    "import pandas as pd\n",
    "from sklearn.preprocessing import StandardScaler\n",
    "import random"
   ]
  },
  {
   "cell_type": "code",
   "execution_count": 10,
   "metadata": {},
   "outputs": [],
   "source": [
    "# importando os modulos definidos\n",
    "from src.Node import Node"
   ]
  },
  {
   "cell_type": "markdown",
   "metadata": {},
   "source": [
    "# Carregamento de dados"
   ]
  },
  {
   "cell_type": "code",
   "execution_count": 2,
   "metadata": {},
   "outputs": [],
   "source": [
    "def load_dataset(dataset_name, header=None):\n",
    "    train_path = f'./data/{dataset_name}train.csv'\n",
    "    test_path = f'./data/{dataset_name}test.csv'\n",
    "\n",
    "    train_data = pd.read_csv(filepath_or_buffer=train_path, header=header)\n",
    "    test_data = pd.read_csv(filepath_or_buffer=test_path, header=header)\n",
    "    \n",
    "    return train_data, test_data"
   ]
  },
  {
   "cell_type": "code",
   "execution_count": 3,
   "metadata": {},
   "outputs": [
    {
     "name": "stdout",
     "output_type": "stream",
     "text": [
      "(92, 10) (24, 10)\n"
     ]
    }
   ],
   "source": [
    "breast_cancer_train_data, breast_cancer_test_data = load_dataset('breast_cancer_coimbra_', header=0)\n",
    "print(breast_cancer_train_data.shape, breast_cancer_test_data.shape)"
   ]
  },
  {
   "cell_type": "code",
   "execution_count": 4,
   "metadata": {},
   "outputs": [
    {
     "data": {
      "text/html": [
       "<div>\n",
       "<style scoped>\n",
       "    .dataframe tbody tr th:only-of-type {\n",
       "        vertical-align: middle;\n",
       "    }\n",
       "\n",
       "    .dataframe tbody tr th {\n",
       "        vertical-align: top;\n",
       "    }\n",
       "\n",
       "    .dataframe thead th {\n",
       "        text-align: right;\n",
       "    }\n",
       "</style>\n",
       "<table border=\"1\" class=\"dataframe\">\n",
       "  <thead>\n",
       "    <tr style=\"text-align: right;\">\n",
       "      <th></th>\n",
       "      <th>Age</th>\n",
       "      <th>BMI</th>\n",
       "      <th>Glucose</th>\n",
       "      <th>Insulin</th>\n",
       "      <th>HOMA</th>\n",
       "      <th>Leptin</th>\n",
       "      <th>Adiponectin</th>\n",
       "      <th>Resistin</th>\n",
       "      <th>MCP.1</th>\n",
       "      <th>Classification</th>\n",
       "    </tr>\n",
       "  </thead>\n",
       "  <tbody>\n",
       "    <tr>\n",
       "      <th>0</th>\n",
       "      <td>44</td>\n",
       "      <td>20.760000</td>\n",
       "      <td>86</td>\n",
       "      <td>7.553</td>\n",
       "      <td>1.600000</td>\n",
       "      <td>14.0900</td>\n",
       "      <td>20.320000</td>\n",
       "      <td>7.64000</td>\n",
       "      <td>63.610</td>\n",
       "      <td>1</td>\n",
       "    </tr>\n",
       "    <tr>\n",
       "      <th>1</th>\n",
       "      <td>46</td>\n",
       "      <td>20.830000</td>\n",
       "      <td>88</td>\n",
       "      <td>3.420</td>\n",
       "      <td>0.742368</td>\n",
       "      <td>12.8700</td>\n",
       "      <td>18.550000</td>\n",
       "      <td>13.56000</td>\n",
       "      <td>301.210</td>\n",
       "      <td>2</td>\n",
       "    </tr>\n",
       "    <tr>\n",
       "      <th>2</th>\n",
       "      <td>53</td>\n",
       "      <td>36.790166</td>\n",
       "      <td>101</td>\n",
       "      <td>10.175</td>\n",
       "      <td>2.534932</td>\n",
       "      <td>27.1841</td>\n",
       "      <td>20.030000</td>\n",
       "      <td>10.26309</td>\n",
       "      <td>695.754</td>\n",
       "      <td>1</td>\n",
       "    </tr>\n",
       "    <tr>\n",
       "      <th>3</th>\n",
       "      <td>54</td>\n",
       "      <td>30.483158</td>\n",
       "      <td>90</td>\n",
       "      <td>5.537</td>\n",
       "      <td>1.229214</td>\n",
       "      <td>12.3310</td>\n",
       "      <td>9.731380</td>\n",
       "      <td>10.19299</td>\n",
       "      <td>1227.910</td>\n",
       "      <td>1</td>\n",
       "    </tr>\n",
       "    <tr>\n",
       "      <th>4</th>\n",
       "      <td>34</td>\n",
       "      <td>24.242424</td>\n",
       "      <td>92</td>\n",
       "      <td>21.699</td>\n",
       "      <td>4.924226</td>\n",
       "      <td>16.7353</td>\n",
       "      <td>21.823745</td>\n",
       "      <td>12.06534</td>\n",
       "      <td>481.949</td>\n",
       "      <td>2</td>\n",
       "    </tr>\n",
       "  </tbody>\n",
       "</table>\n",
       "</div>"
      ],
      "text/plain": [
       "   Age        BMI  Glucose  Insulin      HOMA   Leptin  Adiponectin  Resistin  \\\n",
       "0   44  20.760000       86    7.553  1.600000  14.0900    20.320000   7.64000   \n",
       "1   46  20.830000       88    3.420  0.742368  12.8700    18.550000  13.56000   \n",
       "2   53  36.790166      101   10.175  2.534932  27.1841    20.030000  10.26309   \n",
       "3   54  30.483158       90    5.537  1.229214  12.3310     9.731380  10.19299   \n",
       "4   34  24.242424       92   21.699  4.924226  16.7353    21.823745  12.06534   \n",
       "\n",
       "      MCP.1  Classification  \n",
       "0    63.610               1  \n",
       "1   301.210               2  \n",
       "2   695.754               1  \n",
       "3  1227.910               1  \n",
       "4   481.949               2  "
      ]
     },
     "execution_count": 4,
     "metadata": {},
     "output_type": "execute_result"
    }
   ],
   "source": [
    "breast_cancer_train_data.head()"
   ]
  },
  {
   "cell_type": "markdown",
   "metadata": {},
   "source": [
    "* 0 - fixed acidity (tartaric acid - g / dm^3)\n",
    "* 1 - volatile acidity (acetic acid - g / dm^3)\n",
    "* 2 - citric acid (g / dm^3)\n",
    "* 3 - residual sugar (g / dm^3)\n",
    "* 4 - chlorides (sodium chloride - g / dm^3)\n",
    "* 5 - free sulfur dioxide (mg / dm^3)\n",
    "* 6 - total sulfur dioxide (mg / dm^3)\n",
    "* 7 - density (g / cm^3)\n",
    "* 8 - pH\n",
    "* 9 - sulphates (potassium sulphate - g / dm3)\n",
    "* 10 - alcohol (% by volume)\n",
    "* 11 - quality (score between 0 and 10) - output variable"
   ]
  },
  {
   "cell_type": "code",
   "execution_count": 5,
   "metadata": {},
   "outputs": [
    {
     "name": "stdout",
     "output_type": "stream",
     "text": [
      "(1279, 12) (320, 12)\n"
     ]
    }
   ],
   "source": [
    "wine_train_data, wine_test_data = load_dataset('wineRed-', header=None)\n",
    "print(wine_train_data.shape, wine_test_data.shape)"
   ]
  },
  {
   "cell_type": "code",
   "execution_count": 6,
   "metadata": {},
   "outputs": [
    {
     "data": {
      "text/html": [
       "<div>\n",
       "<style scoped>\n",
       "    .dataframe tbody tr th:only-of-type {\n",
       "        vertical-align: middle;\n",
       "    }\n",
       "\n",
       "    .dataframe tbody tr th {\n",
       "        vertical-align: top;\n",
       "    }\n",
       "\n",
       "    .dataframe thead th {\n",
       "        text-align: right;\n",
       "    }\n",
       "</style>\n",
       "<table border=\"1\" class=\"dataframe\">\n",
       "  <thead>\n",
       "    <tr style=\"text-align: right;\">\n",
       "      <th></th>\n",
       "      <th>0</th>\n",
       "      <th>1</th>\n",
       "      <th>2</th>\n",
       "      <th>3</th>\n",
       "      <th>4</th>\n",
       "      <th>5</th>\n",
       "      <th>6</th>\n",
       "      <th>7</th>\n",
       "      <th>8</th>\n",
       "      <th>9</th>\n",
       "      <th>10</th>\n",
       "      <th>11</th>\n",
       "    </tr>\n",
       "  </thead>\n",
       "  <tbody>\n",
       "    <tr>\n",
       "      <th>0</th>\n",
       "      <td>7.4</td>\n",
       "      <td>0.640</td>\n",
       "      <td>0.17</td>\n",
       "      <td>5.40</td>\n",
       "      <td>0.168</td>\n",
       "      <td>52.0</td>\n",
       "      <td>98.0</td>\n",
       "      <td>0.99736</td>\n",
       "      <td>3.28</td>\n",
       "      <td>0.50</td>\n",
       "      <td>9.5</td>\n",
       "      <td>5</td>\n",
       "    </tr>\n",
       "    <tr>\n",
       "      <th>1</th>\n",
       "      <td>10.4</td>\n",
       "      <td>0.440</td>\n",
       "      <td>0.73</td>\n",
       "      <td>6.55</td>\n",
       "      <td>0.074</td>\n",
       "      <td>38.0</td>\n",
       "      <td>76.0</td>\n",
       "      <td>0.99900</td>\n",
       "      <td>3.17</td>\n",
       "      <td>0.85</td>\n",
       "      <td>12.0</td>\n",
       "      <td>7</td>\n",
       "    </tr>\n",
       "    <tr>\n",
       "      <th>2</th>\n",
       "      <td>10.7</td>\n",
       "      <td>0.430</td>\n",
       "      <td>0.39</td>\n",
       "      <td>2.20</td>\n",
       "      <td>0.106</td>\n",
       "      <td>8.0</td>\n",
       "      <td>32.0</td>\n",
       "      <td>0.99860</td>\n",
       "      <td>2.89</td>\n",
       "      <td>0.50</td>\n",
       "      <td>9.6</td>\n",
       "      <td>5</td>\n",
       "    </tr>\n",
       "    <tr>\n",
       "      <th>3</th>\n",
       "      <td>8.9</td>\n",
       "      <td>0.635</td>\n",
       "      <td>0.37</td>\n",
       "      <td>1.70</td>\n",
       "      <td>0.263</td>\n",
       "      <td>5.0</td>\n",
       "      <td>62.0</td>\n",
       "      <td>0.99710</td>\n",
       "      <td>3.00</td>\n",
       "      <td>1.09</td>\n",
       "      <td>9.3</td>\n",
       "      <td>5</td>\n",
       "    </tr>\n",
       "    <tr>\n",
       "      <th>4</th>\n",
       "      <td>7.8</td>\n",
       "      <td>0.570</td>\n",
       "      <td>0.09</td>\n",
       "      <td>2.30</td>\n",
       "      <td>0.065</td>\n",
       "      <td>34.0</td>\n",
       "      <td>45.0</td>\n",
       "      <td>0.99417</td>\n",
       "      <td>3.46</td>\n",
       "      <td>0.74</td>\n",
       "      <td>12.7</td>\n",
       "      <td>8</td>\n",
       "    </tr>\n",
       "  </tbody>\n",
       "</table>\n",
       "</div>"
      ],
      "text/plain": [
       "     0      1     2     3      4     5     6        7     8     9     10  11\n",
       "0   7.4  0.640  0.17  5.40  0.168  52.0  98.0  0.99736  3.28  0.50   9.5   5\n",
       "1  10.4  0.440  0.73  6.55  0.074  38.0  76.0  0.99900  3.17  0.85  12.0   7\n",
       "2  10.7  0.430  0.39  2.20  0.106   8.0  32.0  0.99860  2.89  0.50   9.6   5\n",
       "3   8.9  0.635  0.37  1.70  0.263   5.0  62.0  0.99710  3.00  1.09   9.3   5\n",
       "4   7.8  0.570  0.09  2.30  0.065  34.0  45.0  0.99417  3.46  0.74  12.7   8"
      ]
     },
     "execution_count": 6,
     "metadata": {},
     "output_type": "execute_result"
    }
   ],
   "source": [
    "wine_train_data.head()"
   ]
  },
  {
   "cell_type": "markdown",
   "metadata": {},
   "source": [
    "### Transformação de dados"
   ]
  },
  {
   "cell_type": "code",
   "execution_count": 7,
   "metadata": {},
   "outputs": [],
   "source": [
    "def normalize(train_data, test_data):\n",
    "    scaler = StandardScaler()\n",
    "    scaler.fit(train_data)\n",
    "    return scaler.transform(train_data), scaler.transform(test_data)"
   ]
  },
  {
   "cell_type": "code",
   "execution_count": 8,
   "metadata": {},
   "outputs": [
    {
     "data": {
      "text/plain": [
       "array([[-0.53853669,  0.64402546, -0.52757169, ..., -0.91985987,\n",
       "        -0.85278319, -0.776328  ],\n",
       "       [ 1.19150792, -0.4811826 ,  2.33832098, ...,  1.08391273,\n",
       "         1.50932148,  1.69363099],\n",
       "       [ 1.36451238, -0.537443  ,  0.59831471, ..., -0.91985987,\n",
       "        -0.75829901, -0.776328  ],\n",
       "       ...,\n",
       "       [-0.82687746,  0.08142143, -1.19286821, ...,  1.42741661,\n",
       "        -0.94726738,  0.45865149],\n",
       "       [ 0.32648561,  0.47524425,  1.11008126, ...,  2.05717371,\n",
       "        -1.04175157, -0.776328  ],\n",
       "       [-0.59620484,  2.55687915, -1.14169155, ..., -0.63360664,\n",
       "        -0.66381482, -3.24628699]])"
      ]
     },
     "execution_count": 8,
     "metadata": {},
     "output_type": "execute_result"
    }
   ],
   "source": [
    "wine_train_data_normalized,wine_test_data_normalized = normalize(wine_train_data,wine_test_data)\n",
    "wine_train_data_normalized"
   ]
  },
  {
   "cell_type": "markdown",
   "metadata": {},
   "source": [
    "# Modelagem dos indivíduos"
   ]
  },
  {
   "cell_type": "code",
   "execution_count": 14,
   "metadata": {},
   "outputs": [],
   "source": [
    "TAMANHO_MAXIMO_INDIVIDUO = 7\n",
    "TERMINAIS = ['+', '-', '*', '/']"
   ]
  },
  {
   "cell_type": "code",
   "execution_count": 21,
   "metadata": {},
   "outputs": [],
   "source": [
    "def generate_random_tree(max_depth, terminals, variables, probability=0.9):\n",
    "    if max_depth == 0 or (random.random() > probability):\n",
    "        # Nó folha: variável ou constante\n",
    "        if random.random() < 0.5:\n",
    "            # Seleciona uma variável aleatória\n",
    "            value = random.choice(variables)\n",
    "        else:\n",
    "            # Gera uma constante aleatória\n",
    "            value = random.uniform(-10, 10)\n",
    "        return Node(value)\n",
    "    else:\n",
    "        # Nó interno: operador\n",
    "        op = random.choice(terminals)\n",
    "        left_subtree = generate_random_tree(max_depth - 1,terminals, variables, probability)\n",
    "        right_subtree = generate_random_tree(max_depth - 1,terminals, variables, probability)\n",
    "        return Node(op, left_subtree, right_subtree)\n"
   ]
  },
  {
   "cell_type": "code",
   "execution_count": 22,
   "metadata": {},
   "outputs": [
    {
     "data": {
      "text/plain": [
       "<src.Node.Node at 0x13259976480>"
      ]
     },
     "execution_count": 22,
     "metadata": {},
     "output_type": "execute_result"
    }
   ],
   "source": [
    "variables = [f'x{i}' for i in range(wine_train_data_normalized.shape[1])]\n",
    "\n",
    "# Gerando uma árvore aleatória\n",
    "tree = generate_random_tree(max_depth=TAMANHO_MAXIMO_INDIVIDUO,terminals=TERMINAIS, variables=variables)\n",
    "tree"
   ]
  },
  {
   "cell_type": "code",
   "execution_count": 26,
   "metadata": {},
   "outputs": [
    {
     "data": {
      "text/plain": [
       "'(((((((x6 / x1) / (0.8877350438355229 - x0)) * ((x8 + x4) * 6.1353849471384905)) * (((x4 - x1) * (x6 - 0.0341635255256616)) / ((-9.632355482502422 / 2.57781958571025) / (x7 / x3)))) * ((((-5.312802446905199 + x0) + (-7.551090027072 / x8)) / x6) / (((-0.8173246341381191 / -0.03284348174277696) / (2.5692590813010785 - x7)) + ((2.6714409103750505 * x2) * (x0 + 0.8508485794895151))))) * (((((x10 / 1.3852306688199878) * (x9 - x4)) / ((2.5629053324778006 - 4.210677960910232) - (x2 + x9))) * ((-6.191436665894631 / (x7 / x9)) * ((x11 * x10) - x3))) - ((((0.3216289939735191 - 2.1444837583663308) + (6.70778182038935 + -7.545660998737618)) - ((x4 * x7) - (-0.5206797157167937 * x5))) / (((x9 - x6) * x5) - ((x10 - 3.4536163814429344) - (x3 * -7.706753801235589)))))) + ((((x6 / ((x10 - x11) / (x9 - 3.6271410067858145))) * (((x7 + x1) + x10) - ((-9.761514496844896 * x1) * (x2 - x1)))) - (2.828311208793439 / ((x8 - (x11 - x6)) / ((-4.238247688403078 + x11) / (-5.8352698853428535 - x3))))) + (((((x5 / x8) - (-8.708747533744436 + x3)) / ((x9 - 8.648749887509002) * (x0 + x3))) / (x11 - ((x9 - -7.52427020145335) * (5.5984059059048 * -0.8871501327546998)))) / ((((x8 - -6.002726205927433) * (-9.931877214645738 + 0.055063953411604416)) - ((x10 - x4) * x0)) * (((0.4068664640474786 + -5.167753264498844) - (1.3206537519732091 - 4.959294092861864)) * ((5.320527999167295 + x6) + x7))))))'"
      ]
     },
     "execution_count": 26,
     "metadata": {},
     "output_type": "execute_result"
    }
   ],
   "source": [
    "def tree_to_string(node):\n",
    "    if node.is_leaf():\n",
    "        return str(node.value)\n",
    "    else:\n",
    "        left_str = tree_to_string(node.left)\n",
    "        right_str = tree_to_string(node.right)\n",
    "        return f'({left_str} {node.value} {right_str})'\n",
    "\n",
    "tree_to_string(tree)"
   ]
  }
 ],
 "metadata": {
  "kernelspec": {
   "display_name": ".venv",
   "language": "python",
   "name": "python3"
  },
  "language_info": {
   "codemirror_mode": {
    "name": "ipython",
    "version": 3
   },
   "file_extension": ".py",
   "mimetype": "text/x-python",
   "name": "python",
   "nbconvert_exporter": "python",
   "pygments_lexer": "ipython3",
   "version": "3.12.3"
  }
 },
 "nbformat": 4,
 "nbformat_minor": 2
}
